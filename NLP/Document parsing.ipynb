{
 "cells": [
  {
   "cell_type": "code",
   "execution_count": 1,
   "metadata": {},
   "outputs": [],
   "source": [
    "import PyPDF2 as pdf"
   ]
  },
  {
   "cell_type": "code",
   "execution_count": 14,
   "metadata": {},
   "outputs": [],
   "source": [
    "file= open('E:/graduation project/searches/Paper one/conference/Improve Telecom Customer Churn Prediction Using Machine Learning.pdf','rb')"
   ]
  },
  {
   "cell_type": "raw",
   "metadata": {},
   "source": [
    "#using another libarary\n",
    "import slate3k as slate\n",
    "\n",
    "with open(file_path, 'rb') as f:\n",
    "    extracted_text = slate.PDF(f)\n",
    "print(extracted_text)"
   ]
  },
  {
   "cell_type": "code",
   "execution_count": 15,
   "metadata": {},
   "outputs": [],
   "source": [
    "pdf_reader=pdf.PdfFileReader(file)"
   ]
  },
  {
   "cell_type": "code",
   "execution_count": 16,
   "metadata": {},
   "outputs": [
    {
     "name": "stdout",
     "output_type": "stream",
     "text": [
      "Help on PdfFileReader in module PyPDF2.pdf object:\n",
      "\n",
      "class PdfFileReader(builtins.object)\n",
      " |  PdfFileReader(stream, strict=True, warndest=None, overwriteWarnings=True)\n",
      " |  \n",
      " |  Initializes a PdfFileReader object.  This operation can take some time, as\n",
      " |  the PDF stream's cross-reference tables are read into memory.\n",
      " |  \n",
      " |  :param stream: A File object or an object that supports the standard read\n",
      " |      and seek methods similar to a File object. Could also be a\n",
      " |      string representing a path to a PDF file.\n",
      " |  :param bool strict: Determines whether user should be warned of all\n",
      " |      problems and also causes some correctable problems to be fatal.\n",
      " |      Defaults to ``True``.\n",
      " |  :param warndest: Destination for logging warnings (defaults to\n",
      " |      ``sys.stderr``).\n",
      " |  :param bool overwriteWarnings: Determines whether to override Python's\n",
      " |      ``warnings.py`` module with a custom implementation (defaults to\n",
      " |      ``True``).\n",
      " |  \n",
      " |  Methods defined here:\n",
      " |  \n",
      " |  __init__(self, stream, strict=True, warndest=None, overwriteWarnings=True)\n",
      " |      Initialize self.  See help(type(self)) for accurate signature.\n",
      " |  \n",
      " |  cacheGetIndirectObject(self, generation, idnum)\n",
      " |  \n",
      " |  cacheIndirectObject(self, generation, idnum, obj)\n",
      " |  \n",
      " |  decrypt(self, password)\n",
      " |      When using an encrypted / secured PDF file with the PDF Standard\n",
      " |      encryption handler, this function will allow the file to be decrypted.\n",
      " |      It checks the given password against the document's user password and\n",
      " |      owner password, and then stores the resulting decryption key if either\n",
      " |      password is correct.\n",
      " |      \n",
      " |      It does not matter which password was matched.  Both passwords provide\n",
      " |      the correct decryption key that will allow the document to be used with\n",
      " |      this library.\n",
      " |      \n",
      " |      :param str password: The password to match.\n",
      " |      :return: ``0`` if the password failed, ``1`` if the password matched the user\n",
      " |          password, and ``2`` if the password matched the owner password.\n",
      " |      :rtype: int\n",
      " |      :raises NotImplementedError: if document uses an unsupported encryption\n",
      " |          method.\n",
      " |  \n",
      " |  getDestinationPageNumber(self, destination)\n",
      " |      Retrieve page number of a given Destination object\n",
      " |      \n",
      " |      :param Destination destination: The destination to get page number.\n",
      " |           Should be an instance of\n",
      " |           :class:`Destination<PyPDF2.pdf.Destination>`\n",
      " |      :return: the page number or -1 if page not found\n",
      " |      :rtype: int\n",
      " |  \n",
      " |  getDocumentInfo(self)\n",
      " |      Retrieves the PDF file's document information dictionary, if it exists.\n",
      " |      Note that some PDF files use metadata streams instead of docinfo\n",
      " |      dictionaries, and these metadata streams will not be accessed by this\n",
      " |      function.\n",
      " |      \n",
      " |      :return: the document information of this PDF file\n",
      " |      :rtype: :class:`DocumentInformation<pdf.DocumentInformation>` or ``None`` if none exists.\n",
      " |  \n",
      " |  getFields(self, tree=None, retval=None, fileobj=None)\n",
      " |      Extracts field data if this PDF contains interactive form fields.\n",
      " |      The *tree* and *retval* parameters are for recursive use.\n",
      " |      \n",
      " |      :param fileobj: A file object (usually a text file) to write\n",
      " |          a report to on all interactive form fields found.\n",
      " |      :return: A dictionary where each key is a field name, and each\n",
      " |          value is a :class:`Field<PyPDF2.generic.Field>` object. By\n",
      " |          default, the mapping name is used for keys.\n",
      " |      :rtype: dict, or ``None`` if form data could not be located.\n",
      " |  \n",
      " |  getFormTextFields(self)\n",
      " |      Retrieves form fields from the document with textual data (inputs, dropdowns)\n",
      " |  \n",
      " |  getIsEncrypted(self)\n",
      " |  \n",
      " |  getNamedDestinations(self, tree=None, retval=None)\n",
      " |      Retrieves the named destinations present in the document.\n",
      " |      \n",
      " |      :return: a dictionary which maps names to\n",
      " |          :class:`Destinations<PyPDF2.generic.Destination>`.\n",
      " |      :rtype: dict\n",
      " |  \n",
      " |  getNumPages(self)\n",
      " |      Calculates the number of pages in this PDF file.\n",
      " |      \n",
      " |      :return: number of pages\n",
      " |      :rtype: int\n",
      " |      :raises PdfReadError: if file is encrypted and restrictions prevent\n",
      " |          this action.\n",
      " |  \n",
      " |  getObject(self, indirectReference)\n",
      " |  \n",
      " |  getOutlines(self, node=None, outlines=None)\n",
      " |      Retrieves the document outline present in the document.\n",
      " |      \n",
      " |      :return: a nested list of :class:`Destinations<PyPDF2.generic.Destination>`.\n",
      " |  \n",
      " |  getPage(self, pageNumber)\n",
      " |      Retrieves a page by number from this PDF file.\n",
      " |      \n",
      " |      :param int pageNumber: The page number to retrieve\n",
      " |          (pages begin at zero)\n",
      " |      :return: a :class:`PageObject<pdf.PageObject>` instance.\n",
      " |      :rtype: :class:`PageObject<pdf.PageObject>`\n",
      " |  \n",
      " |  getPageLayout(self)\n",
      " |      Get the page layout.\n",
      " |      See :meth:`setPageLayout()<PdfFileWriter.setPageLayout>`\n",
      " |      for a description of valid layouts.\n",
      " |      \n",
      " |      :return: Page layout currently being used.\n",
      " |      :rtype: ``str``, ``None`` if not specified\n",
      " |  \n",
      " |  getPageMode(self)\n",
      " |      Get the page mode.\n",
      " |      See :meth:`setPageMode()<PdfFileWriter.setPageMode>`\n",
      " |      for a description of valid modes.\n",
      " |      \n",
      " |      :return: Page mode currently being used.\n",
      " |      :rtype: ``str``, ``None`` if not specified\n",
      " |  \n",
      " |  getPageNumber(self, page)\n",
      " |      Retrieve page number of a given PageObject\n",
      " |      \n",
      " |      :param PageObject page: The page to get page number. Should be\n",
      " |          an instance of :class:`PageObject<PyPDF2.pdf.PageObject>`\n",
      " |      :return: the page number or -1 if page not found\n",
      " |      :rtype: int\n",
      " |  \n",
      " |  getXmpMetadata(self)\n",
      " |      Retrieves XMP (Extensible Metadata Platform) data from the PDF document\n",
      " |      root.\n",
      " |      \n",
      " |      :return: a :class:`XmpInformation<xmp.XmpInformation>`\n",
      " |          instance that can be used to access XMP metadata from the document.\n",
      " |      :rtype: :class:`XmpInformation<xmp.XmpInformation>` or\n",
      " |          ``None`` if no metadata was found on the document root.\n",
      " |  \n",
      " |  read(self, stream)\n",
      " |  \n",
      " |  readNextEndLine(self, stream)\n",
      " |  \n",
      " |  readObjectHeader(self, stream)\n",
      " |  \n",
      " |  ----------------------------------------------------------------------\n",
      " |  Data descriptors defined here:\n",
      " |  \n",
      " |  __dict__\n",
      " |      dictionary for instance variables (if defined)\n",
      " |  \n",
      " |  __weakref__\n",
      " |      list of weak references to the object (if defined)\n",
      " |  \n",
      " |  documentInfo\n",
      " |  \n",
      " |  isEncrypted\n",
      " |  \n",
      " |  namedDestinations\n",
      " |  \n",
      " |  numPages\n",
      " |  \n",
      " |  outlines\n",
      " |  \n",
      " |  pageLayout\n",
      " |      Get the page layout.\n",
      " |      See :meth:`setPageLayout()<PdfFileWriter.setPageLayout>`\n",
      " |      for a description of valid layouts.\n",
      " |      \n",
      " |      :return: Page layout currently being used.\n",
      " |      :rtype: ``str``, ``None`` if not specified\n",
      " |  \n",
      " |  pageMode\n",
      " |      Get the page mode.\n",
      " |      See :meth:`setPageMode()<PdfFileWriter.setPageMode>`\n",
      " |      for a description of valid modes.\n",
      " |      \n",
      " |      :return: Page mode currently being used.\n",
      " |      :rtype: ``str``, ``None`` if not specified\n",
      " |  \n",
      " |  pages\n",
      " |  \n",
      " |  xmpMetadata\n",
      "\n"
     ]
    }
   ],
   "source": [
    "help(pdf_reader)"
   ]
  },
  {
   "cell_type": "code",
   "execution_count": 17,
   "metadata": {},
   "outputs": [
    {
     "data": {
      "text/plain": [
       "5"
      ]
     },
     "execution_count": 17,
     "metadata": {},
     "output_type": "execute_result"
    }
   ],
   "source": [
    "pdf_reader.getNumPages()"
   ]
  },
  {
   "cell_type": "code",
   "execution_count": 18,
   "metadata": {},
   "outputs": [],
   "source": [
    "page1=pdf_reader.getPage(0)\n",
    "page1.extractText()"
   ]
  },
  {
   "cell_type": "code",
   "execution_count": 20,
   "metadata": {},
   "outputs": [
    {
     "data": {
      "text/plain": [
       "\" \\n \\nidentify churners. Results show that exhaustive CHAID, which \\nis a \\nvariant of the standard decision tree, is the best method for \\npredicting churn in telecom.\\n \\nAmal M. Almana, Rasheed Alza\\nhrani, Mehmet Sabih Aksoy. \\nIn\\n \\n[\\n5\\n] have discussed that Decision tree techniques, neural \\nnetwork trees, and Regression techniques are appli\\ned in churn \\nprediction. \\nThe d\\necision tree algorithm is better than others \\nwith accuracy. However, the neural network is better \\nthan other \\nalgorithms with dataset\\n \\nsize. The result shows th\\nat in most \\ncases, Decision tree\\n \\nis the best method for predicting chu\\nrn in \\ntelecom\\n.\\n \\nIII.\\n \\nM\\nATERIALS \\nA\\nND \\nM\\nETHODS\\n \\nA.\\n \\nDataset \\n \\nA churn dataset \\nfrom\\n \\nK\\naggle \\n[6] \\nused in the model\\n \\nw\\nhich \\ncontains custom\\ner data, with churn label which\\n \\nspecifies\\n \\nwhether the customer revoked the subscription or not. The \\ndataset consists of 3333 customer's inf\\normation. Every \\ncustomer has 21 features as shown in table 1, and there \\nare\\n \\nno \\nmissing data. The amount of churn customers is 14% of the \\ntotal customer.\\n \\nTwo of the attributes (international plan and \\nvoice mail plan) were transformed from the non\\n-\\nnumerical \\nform (yes/no) into binary form (1/0) to be more s\\nuitable for the \\nselected models\\n \\na\\nnd one attribute (churn) was transformed \\nfrom the non\\n-\\nnumerical form (False/True) into binary form \\n(1/0) to be more suitable for the selected \\nmodel\\n. Non\\n-\\nnumerical data so this issue is solved after \\npreparation as \\nshown in table 1\\n[9]\\n,\\n[14]\\n.\\n \\n \\n \\nVariable\\n \\n \\nAlternative\\n \\n \\nCode\\n \\n \\nChurn\\n \\nTrue\\n \\n0\\n \\nFalse\\n \\n1\\n \\n \\nState\\n \\n \\nChange states \\nnames to\\n \\nnumbers\\n \\n \\n1,2,3,4,5\\n, etc.\\n \\n \\ninternational plan\\n \\n \\nYes\\n \\n \\n1\\n \\nNo\\n \\n0\\n \\nvoice mail plan\\n \\nYes\\n \\n1\\n \\nNo\\n \\n0\\n \\n.\\n \\nTable 1: attributes of the data set after preparation\\n \\nB.\\n \\nMachine Learning Techniques \\n \\n \\nIn this paper, a study of the major used algorithms for \\nchurn predicti\\non and compare these algorithms\\n \\nw\\nith \\nthe aim\\n \\nof \\nselect the best one. The three machine learning algorithms used \\nare: \\n \\nI\\n. Decision Tree \\n \\nA decision tree is a model that builds a tree that represents \\na group of decisions. It returns the probability scores of class \\nmembership.  It's consist of internal nodes, as each node refers \\nto a single feature and represents a test point at feature level\\n \\nand branches, which represent the result of the test and lines \\nthat drove to leaf nodes which is the class labels. That is how \\ndecision rules are created and employed to classify instances.  \\nIt's a versatile model that supports both continuous data and \\nca\\ntegorical. They became commonly used models for churn \\nprediction. So \\nthe \\ndecision tree simply represents a graph of all \\nthe potential solutions for particular conditions. It's called a \\ndecision tree because it begins with a root, which then branches \\noff in\\nto a numb\\ner of solutions, just as a tree\\n \\n[1]\\n,\\n[7]\\n,\\n \\n[8]\\n,\\n[9]\\n.\\n \\nII\\n. Random Forest\\n \\nRandom Forest considered an ensemble ML algorithm that \\ncan support regression and classification. It extends the major \\nidea of a single classification tree by growing many \\nclassif\\nication trees in the training phase. To classify an \\ninstance, all trees generate its response. The model selects the \\nclass that has obtained the most voted tree over the forest trees. \\nA great benefit of this algorithm over traditional decision trees \\nis the\\n \\nprevention towards overfitting which \\nincreases the model \\nperformance\\n, \\nso\\n \\nr\\nandom forest simply builds multiple decision \\ntrees and merges them together to get a more accurate and \\nstable prediction. It's an ensemble method used for \\nclassification. It include\\ns the decision tree\\n \\nbuilding from the \\ndata that are trained and matching the test with these data\\n \\n[1],[7], [8],[9].\\n \\n \\nIII\\n. Artificial Neural Network\\n \\nArtificial Neural Networks are machine learning algorithms \\nthat are influenced by the bio\\n-\\nneural network in \\nthe human \\nbrain. ANNs are adaptive, can learn by example. They contain \\na set of connected nodes organized in layers. The input layer \\ncommunicates with one or many hidden layers, which in turn \\ncommunicates with the output layer. Layers are connected by \\nweig\\nhted links. Those links carry signals between neurons \\nusually in the form of a real number. The output of each neuron \\nis a function of the likely sum of all its inputs. The weights on \\nthe connection are modified through the learning phase to form \\nthe stren\\ngths of connections between nodes. \\nThe ANN\\n \\ncan \\naddress complex problems, such as the churn prediction \\nproblem. Multilayer perceptron (MLP) is an ANN that \\ncomposed of at least three layers. Neurons in all layer\\ns\\n \\nuse \\nsupervised learning techni\\nques, in custom\\ner churn problem\\n.\\n \\nMLP has proven \\nbetter performance in this case\\n, s\\no\\n  \\nMLPNN \\nsimply generates a set of outputs from a set of inputs. An MLP \\nis distinguished by several layers of input nodes connected as a \\ngraph between the output and input layers\\n \\n[1],[7], [\\n8],[9].\\n \\n \\nC.\\n \\nModel Construction \\n \\nThe proposed model is composed of six stages as shown in \\nfigure 1, these stages are: data exploration, data preparation, \\n\""
      ]
     },
     "execution_count": 20,
     "metadata": {},
     "output_type": "execute_result"
    }
   ],
   "source": [
    "page2=pdf_reader.getPage(1)\n",
    "page2.extractText()"
   ]
  },
  {
   "cell_type": "code",
   "execution_count": null,
   "metadata": {},
   "outputs": [],
   "source": [
    "#modify pages to get the first and second pages only"
   ]
  },
  {
   "cell_type": "code",
   "execution_count": 25,
   "metadata": {},
   "outputs": [],
   "source": [
    "pdf_writer=pdf.PdfFileWriter()\n",
    "pdf_writer.addPage(page1)\n",
    "pdf_writer.addPage(page2)"
   ]
  },
  {
   "cell_type": "code",
   "execution_count": 26,
   "metadata": {},
   "outputs": [
    {
     "data": {
      "text/plain": [
       "<function BufferedWriter.close>"
      ]
     },
     "execution_count": 26,
     "metadata": {},
     "output_type": "execute_result"
    }
   ],
   "source": [
    "output=open('pages.pdf','wb')\n",
    "pdf_writer.write(output)\n",
    "output.close"
   ]
  },
  {
   "cell_type": "code",
   "execution_count": null,
   "metadata": {},
   "outputs": [],
   "source": []
  }
 ],
 "metadata": {
  "kernelspec": {
   "display_name": "Python 3",
   "language": "python",
   "name": "python3"
  },
  "language_info": {
   "codemirror_mode": {
    "name": "ipython",
    "version": 3
   },
   "file_extension": ".py",
   "mimetype": "text/x-python",
   "name": "python",
   "nbconvert_exporter": "python",
   "pygments_lexer": "ipython3",
   "version": "3.7.6"
  }
 },
 "nbformat": 4,
 "nbformat_minor": 4
}
