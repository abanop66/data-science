{
 "cells": [
  {
   "cell_type": "code",
   "execution_count": 92,
   "metadata": {},
   "outputs": [],
   "source": [
    "import requests\n",
    "from bs4 import BeautifulSoup #parsing"
   ]
  },
  {
   "cell_type": "code",
   "execution_count": 93,
   "metadata": {},
   "outputs": [],
   "source": [
    "url = \"https://www.goodreads.com/quotes/tag/{}?page={}\""
   ]
  },
  {
   "cell_type": "code",
   "execution_count": 94,
   "metadata": {},
   "outputs": [],
   "source": [
    "def get_quotes(url):    \n",
    "    \n",
    "    res = requests.get(url)\n",
    "\n",
    "    soup = BeautifulSoup(res.text)\n",
    "\n",
    "    quote_divs = soup.find_all(\"div\", attrs={\"class\" : \"quote\"})\n",
    "\n",
    "    quotes = []\n",
    "\n",
    "    for quote_div in quote_divs:\n",
    "\n",
    "        quoteText_div = quote_div.find_next(\"div\", attrs={\"class\" : \"quoteText\"})\n",
    "\n",
    "        striped = quoteText_div.text.strip()\n",
    "\n",
    "        striped_li = striped.split(\"\\n\")\n",
    "\n",
    "        quote = striped_li[0][1:-1]\n",
    "        author = striped_li[-1].strip()\n",
    "\n",
    "        left_div = quote_div.find_next(\"div\", attrs={\"class\" : \"left\"})\n",
    "        tags = [tag.text for tag in left_div.find_all(\"a\")]\n",
    "\n",
    "        quote_item = {\n",
    "            \"text\" : quote,\n",
    "            \"author\" : author,\n",
    "            \"tags\" : tags\n",
    "        }\n",
    "\n",
    "        quotes.append(quote_item)\n",
    "    \n",
    "    return quotes"
   ]
  },
  {
   "cell_type": "code",
   "execution_count": 100,
   "metadata": {},
   "outputs": [
    {
     "name": "stdout",
     "output_type": "stream",
     "text": [
      "processed 1\n",
      "processed 2\n",
      "processed 3\n",
      "processed 4\n",
      "processed 5\n"
     ]
    }
   ],
   "source": [
    "total = []\n",
    "for i in range(1, 6):\n",
    "    total.extend(get_quotes(url.format(\"love\", i)))\n",
    "    print(\"processed\", i)"
   ]
  },
  {
   "cell_type": "code",
   "execution_count": 116,
   "metadata": {},
   "outputs": [],
   "source": [
    "import pandas as pd\n",
    "df=pd.DataFrame(total)"
   ]
  },
  {
   "cell_type": "code",
   "execution_count": 117,
   "metadata": {},
   "outputs": [
    {
     "data": {
      "text/html": [
       "<div>\n",
       "<style scoped>\n",
       "    .dataframe tbody tr th:only-of-type {\n",
       "        vertical-align: middle;\n",
       "    }\n",
       "\n",
       "    .dataframe tbody tr th {\n",
       "        vertical-align: top;\n",
       "    }\n",
       "\n",
       "    .dataframe thead th {\n",
       "        text-align: right;\n",
       "    }\n",
       "</style>\n",
       "<table border=\"1\" class=\"dataframe\">\n",
       "  <thead>\n",
       "    <tr style=\"text-align: right;\">\n",
       "      <th></th>\n",
       "      <th>text</th>\n",
       "      <th>author</th>\n",
       "      <th>tags</th>\n",
       "    </tr>\n",
       "  </thead>\n",
       "  <tbody>\n",
       "    <tr>\n",
       "      <th>0</th>\n",
       "      <td>I'm selfish, impatient and a little insecure. ...</td>\n",
       "      <td>Marilyn Monroe</td>\n",
       "      <td>[attributed-no-source, best, life, love, mista...</td>\n",
       "    </tr>\n",
       "    <tr>\n",
       "      <th>1</th>\n",
       "      <td>You've gotta dance like there's nobody watchin...</td>\n",
       "      <td>William W. Purkey</td>\n",
       "      <td>[dance, heaven, hurt, inspirational, life, lov...</td>\n",
       "    </tr>\n",
       "    <tr>\n",
       "      <th>2</th>\n",
       "      <td>You know you're in love when you can't fall as...</td>\n",
       "      <td>Dr. Seuss</td>\n",
       "      <td>[attributed-no-source, dreams, love, reality, ...</td>\n",
       "    </tr>\n",
       "    <tr>\n",
       "      <th>3</th>\n",
       "      <td>A friend is someone who knows all about you an...</td>\n",
       "      <td>Elbert Hubbard</td>\n",
       "      <td>[friend, friendship, knowledge, love]</td>\n",
       "    </tr>\n",
       "    <tr>\n",
       "      <th>4</th>\n",
       "      <td>Darkness cannot drive out darkness: only light...</td>\n",
       "      <td>A Testament of Hope: The Essential Writings an...</td>\n",
       "      <td>[darkness, drive-out, hate, inspirational, lig...</td>\n",
       "    </tr>\n",
       "    <tr>\n",
       "      <th>...</th>\n",
       "      <td>...</td>\n",
       "      <td>...</td>\n",
       "      <td>...</td>\n",
       "    </tr>\n",
       "    <tr>\n",
       "      <th>145</th>\n",
       "      <td>I love you. Remember. They cannot take it</td>\n",
       "      <td>Delirium</td>\n",
       "      <td>[amor-deliria-nervosa, love]</td>\n",
       "    </tr>\n",
       "    <tr>\n",
       "      <th>146</th>\n",
       "      <td>I loved her against reason, against promise, a...</td>\n",
       "      <td>Great Expectations</td>\n",
       "      <td>[love]</td>\n",
       "    </tr>\n",
       "    <tr>\n",
       "      <th>147</th>\n",
       "      <td>I was smiling yesterday,I am smiling today and...</td>\n",
       "      <td>Quote Me Everyday</td>\n",
       "      <td>[cry, inspirational, joke, love, romance, smile]</td>\n",
       "    </tr>\n",
       "    <tr>\n",
       "      <th>148</th>\n",
       "      <td>Love is an irresistible desire to be irresisti...</td>\n",
       "      <td>Robert Frost</td>\n",
       "      <td>[love]</td>\n",
       "    </tr>\n",
       "    <tr>\n",
       "      <th>149</th>\n",
       "      <td>أجمل حب هو الذي نعثر عليه أثناء بحثنا عن شيء آخر</td>\n",
       "      <td>أحلام مستغانمي</td>\n",
       "      <td>[love, حب]</td>\n",
       "    </tr>\n",
       "  </tbody>\n",
       "</table>\n",
       "<p>150 rows × 3 columns</p>\n",
       "</div>"
      ],
      "text/plain": [
       "                                                  text  \\\n",
       "0    I'm selfish, impatient and a little insecure. ...   \n",
       "1    You've gotta dance like there's nobody watchin...   \n",
       "2    You know you're in love when you can't fall as...   \n",
       "3    A friend is someone who knows all about you an...   \n",
       "4    Darkness cannot drive out darkness: only light...   \n",
       "..                                                 ...   \n",
       "145          I love you. Remember. They cannot take it   \n",
       "146  I loved her against reason, against promise, a...   \n",
       "147  I was smiling yesterday,I am smiling today and...   \n",
       "148  Love is an irresistible desire to be irresisti...   \n",
       "149   أجمل حب هو الذي نعثر عليه أثناء بحثنا عن شيء آخر   \n",
       "\n",
       "                                                author  \\\n",
       "0                                       Marilyn Monroe   \n",
       "1                                    William W. Purkey   \n",
       "2                                            Dr. Seuss   \n",
       "3                                       Elbert Hubbard   \n",
       "4    A Testament of Hope: The Essential Writings an...   \n",
       "..                                                 ...   \n",
       "145                                           Delirium   \n",
       "146                                 Great Expectations   \n",
       "147                                  Quote Me Everyday   \n",
       "148                                       Robert Frost   \n",
       "149                                     أحلام مستغانمي   \n",
       "\n",
       "                                                  tags  \n",
       "0    [attributed-no-source, best, life, love, mista...  \n",
       "1    [dance, heaven, hurt, inspirational, life, lov...  \n",
       "2    [attributed-no-source, dreams, love, reality, ...  \n",
       "3                [friend, friendship, knowledge, love]  \n",
       "4    [darkness, drive-out, hate, inspirational, lig...  \n",
       "..                                                 ...  \n",
       "145                       [amor-deliria-nervosa, love]  \n",
       "146                                             [love]  \n",
       "147   [cry, inspirational, joke, love, romance, smile]  \n",
       "148                                             [love]  \n",
       "149                                         [love, حب]  \n",
       "\n",
       "[150 rows x 3 columns]"
      ]
     },
     "execution_count": 117,
     "metadata": {},
     "output_type": "execute_result"
    }
   ],
   "source": [
    "df"
   ]
  },
  {
   "cell_type": "code",
   "execution_count": 118,
   "metadata": {},
   "outputs": [],
   "source": [
    "#download df as csv\n",
    "#pd.to_csv(\"quotes.csv\")"
   ]
  },
  {
   "cell_type": "code",
   "execution_count": null,
   "metadata": {},
   "outputs": [],
   "source": []
  }
 ],
 "metadata": {
  "kernelspec": {
   "display_name": "Python 3",
   "language": "python",
   "name": "python3"
  },
  "language_info": {
   "codemirror_mode": {
    "name": "ipython",
    "version": 3
   },
   "file_extension": ".py",
   "mimetype": "text/x-python",
   "name": "python",
   "nbconvert_exporter": "python",
   "pygments_lexer": "ipython3",
   "version": "3.7.6"
  }
 },
 "nbformat": 4,
 "nbformat_minor": 4
}
