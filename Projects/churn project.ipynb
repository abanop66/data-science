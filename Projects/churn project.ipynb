{
 "cells": [
  {
   "cell_type": "code",
   "execution_count": 1,
   "metadata": {},
   "outputs": [],
   "source": [
    "#!python -m pip install --upgrade pip"
   ]
  },
  {
   "cell_type": "code",
   "execution_count": 2,
   "metadata": {},
   "outputs": [],
   "source": [
    "#show result directly\n",
    "#%pylab inline\n",
    "%matplotlib inline"
   ]
  },
  {
   "cell_type": "code",
   "execution_count": 3,
   "metadata": {},
   "outputs": [],
   "source": [
    "import numpy as np\n",
    "import matplotlib as plt\n",
    "from matplotlib import style\n",
    "style.use('ggplot')\n",
    "import pandas as pd\n",
    "from sklearn.metrics import accuracy_score \n",
    "from sklearn.cluster import KMeans\n",
    "#from sklearn import preprocessing,cross_validation\n",
    " \n",
    "\n",
    "churn = pd.read_csv('../datasets/Churn.csv') "
   ]
  },
  {
   "cell_type": "markdown",
   "metadata": {},
   "source": [
    "# Data Exploration"
   ]
  },
  {
   "cell_type": "code",
   "execution_count": 4,
   "metadata": {},
   "outputs": [
    {
     "data": {
      "text/html": [
       "<div>\n",
       "<style scoped>\n",
       "    .dataframe tbody tr th:only-of-type {\n",
       "        vertical-align: middle;\n",
       "    }\n",
       "\n",
       "    .dataframe tbody tr th {\n",
       "        vertical-align: top;\n",
       "    }\n",
       "\n",
       "    .dataframe thead th {\n",
       "        text-align: right;\n",
       "    }\n",
       "</style>\n",
       "<table border=\"1\" class=\"dataframe\">\n",
       "  <thead>\n",
       "    <tr style=\"text-align: right;\">\n",
       "      <th></th>\n",
       "      <th>customerID</th>\n",
       "      <th>gender</th>\n",
       "      <th>SeniorCitizen</th>\n",
       "      <th>Partner</th>\n",
       "      <th>Dependents</th>\n",
       "      <th>tenure</th>\n",
       "      <th>PhoneService</th>\n",
       "      <th>MultipleLines</th>\n",
       "      <th>InternetService</th>\n",
       "      <th>OnlineSecurity</th>\n",
       "      <th>...</th>\n",
       "      <th>DeviceProtection</th>\n",
       "      <th>TechSupport</th>\n",
       "      <th>StreamingTV</th>\n",
       "      <th>StreamingMovies</th>\n",
       "      <th>Contract</th>\n",
       "      <th>PaperlessBilling</th>\n",
       "      <th>PaymentMethod</th>\n",
       "      <th>MonthlyCharges</th>\n",
       "      <th>TotalCharges</th>\n",
       "      <th>Churn</th>\n",
       "    </tr>\n",
       "  </thead>\n",
       "  <tbody>\n",
       "    <tr>\n",
       "      <th>0</th>\n",
       "      <td>7590-VHVEG</td>\n",
       "      <td>Female</td>\n",
       "      <td>0</td>\n",
       "      <td>Yes</td>\n",
       "      <td>No</td>\n",
       "      <td>1</td>\n",
       "      <td>No</td>\n",
       "      <td>No phone service</td>\n",
       "      <td>DSL</td>\n",
       "      <td>No</td>\n",
       "      <td>...</td>\n",
       "      <td>No</td>\n",
       "      <td>No</td>\n",
       "      <td>No</td>\n",
       "      <td>No</td>\n",
       "      <td>Month-to-month</td>\n",
       "      <td>Yes</td>\n",
       "      <td>Electronic check</td>\n",
       "      <td>29.85</td>\n",
       "      <td>29.85</td>\n",
       "      <td>No</td>\n",
       "    </tr>\n",
       "    <tr>\n",
       "      <th>1</th>\n",
       "      <td>5575-GNVDE</td>\n",
       "      <td>Male</td>\n",
       "      <td>0</td>\n",
       "      <td>No</td>\n",
       "      <td>No</td>\n",
       "      <td>34</td>\n",
       "      <td>Yes</td>\n",
       "      <td>No</td>\n",
       "      <td>DSL</td>\n",
       "      <td>Yes</td>\n",
       "      <td>...</td>\n",
       "      <td>Yes</td>\n",
       "      <td>No</td>\n",
       "      <td>No</td>\n",
       "      <td>No</td>\n",
       "      <td>One year</td>\n",
       "      <td>No</td>\n",
       "      <td>Mailed check</td>\n",
       "      <td>56.95</td>\n",
       "      <td>1889.5</td>\n",
       "      <td>No</td>\n",
       "    </tr>\n",
       "    <tr>\n",
       "      <th>2</th>\n",
       "      <td>3668-QPYBK</td>\n",
       "      <td>Male</td>\n",
       "      <td>0</td>\n",
       "      <td>No</td>\n",
       "      <td>No</td>\n",
       "      <td>2</td>\n",
       "      <td>Yes</td>\n",
       "      <td>No</td>\n",
       "      <td>DSL</td>\n",
       "      <td>Yes</td>\n",
       "      <td>...</td>\n",
       "      <td>No</td>\n",
       "      <td>No</td>\n",
       "      <td>No</td>\n",
       "      <td>No</td>\n",
       "      <td>Month-to-month</td>\n",
       "      <td>Yes</td>\n",
       "      <td>Mailed check</td>\n",
       "      <td>53.85</td>\n",
       "      <td>108.15</td>\n",
       "      <td>Yes</td>\n",
       "    </tr>\n",
       "  </tbody>\n",
       "</table>\n",
       "<p>3 rows × 21 columns</p>\n",
       "</div>"
      ],
      "text/plain": [
       "   customerID  gender  SeniorCitizen Partner Dependents  tenure PhoneService  \\\n",
       "0  7590-VHVEG  Female              0     Yes         No       1           No   \n",
       "1  5575-GNVDE    Male              0      No         No      34          Yes   \n",
       "2  3668-QPYBK    Male              0      No         No       2          Yes   \n",
       "\n",
       "      MultipleLines InternetService OnlineSecurity  ... DeviceProtection  \\\n",
       "0  No phone service             DSL             No  ...               No   \n",
       "1                No             DSL            Yes  ...              Yes   \n",
       "2                No             DSL            Yes  ...               No   \n",
       "\n",
       "  TechSupport StreamingTV StreamingMovies        Contract PaperlessBilling  \\\n",
       "0          No          No              No  Month-to-month              Yes   \n",
       "1          No          No              No        One year               No   \n",
       "2          No          No              No  Month-to-month              Yes   \n",
       "\n",
       "      PaymentMethod MonthlyCharges  TotalCharges Churn  \n",
       "0  Electronic check          29.85         29.85    No  \n",
       "1      Mailed check          56.95        1889.5    No  \n",
       "2      Mailed check          53.85        108.15   Yes  \n",
       "\n",
       "[3 rows x 21 columns]"
      ]
     },
     "execution_count": 4,
     "metadata": {},
     "output_type": "execute_result"
    }
   ],
   "source": [
    "churn.head(3)"
   ]
  },
  {
   "cell_type": "code",
   "execution_count": 4,
   "metadata": {},
   "outputs": [
    {
     "data": {
      "text/plain": [
       "customerID          False\n",
       "gender              False\n",
       "SeniorCitizen       False\n",
       "Partner             False\n",
       "Dependents          False\n",
       "tenure              False\n",
       "PhoneService        False\n",
       "MultipleLines       False\n",
       "InternetService     False\n",
       "OnlineSecurity      False\n",
       "OnlineBackup        False\n",
       "DeviceProtection    False\n",
       "TechSupport         False\n",
       "StreamingTV         False\n",
       "StreamingMovies     False\n",
       "Contract            False\n",
       "PaperlessBilling    False\n",
       "PaymentMethod       False\n",
       "MonthlyCharges      False\n",
       "TotalCharges        False\n",
       "Churn               False\n",
       "dtype: bool"
      ]
     },
     "execution_count": 4,
     "metadata": {},
     "output_type": "execute_result"
    }
   ],
   "source": [
    "churn.isna().any()"
   ]
  },
  {
   "cell_type": "code",
   "execution_count": 6,
   "metadata": {},
   "outputs": [],
   "source": [
    "#churn.dtypes"
   ]
  },
  {
   "cell_type": "code",
   "execution_count": 7,
   "metadata": {},
   "outputs": [
    {
     "data": {
      "text/html": [
       "<div>\n",
       "<style scoped>\n",
       "    .dataframe tbody tr th:only-of-type {\n",
       "        vertical-align: middle;\n",
       "    }\n",
       "\n",
       "    .dataframe tbody tr th {\n",
       "        vertical-align: top;\n",
       "    }\n",
       "\n",
       "    .dataframe thead th {\n",
       "        text-align: right;\n",
       "    }\n",
       "</style>\n",
       "<table border=\"1\" class=\"dataframe\">\n",
       "  <thead>\n",
       "    <tr style=\"text-align: right;\">\n",
       "      <th></th>\n",
       "      <th>count</th>\n",
       "      <th>mean</th>\n",
       "      <th>std</th>\n",
       "      <th>min</th>\n",
       "      <th>25%</th>\n",
       "      <th>50%</th>\n",
       "      <th>75%</th>\n",
       "      <th>max</th>\n",
       "    </tr>\n",
       "  </thead>\n",
       "  <tbody>\n",
       "    <tr>\n",
       "      <th>SeniorCitizen</th>\n",
       "      <td>7043.0</td>\n",
       "      <td>0.162147</td>\n",
       "      <td>0.368612</td>\n",
       "      <td>0.00</td>\n",
       "      <td>0.0</td>\n",
       "      <td>0.00</td>\n",
       "      <td>0.00</td>\n",
       "      <td>1.00</td>\n",
       "    </tr>\n",
       "    <tr>\n",
       "      <th>tenure</th>\n",
       "      <td>7043.0</td>\n",
       "      <td>32.371149</td>\n",
       "      <td>24.559481</td>\n",
       "      <td>0.00</td>\n",
       "      <td>9.0</td>\n",
       "      <td>29.00</td>\n",
       "      <td>55.00</td>\n",
       "      <td>72.00</td>\n",
       "    </tr>\n",
       "    <tr>\n",
       "      <th>MonthlyCharges</th>\n",
       "      <td>7043.0</td>\n",
       "      <td>64.761692</td>\n",
       "      <td>30.090047</td>\n",
       "      <td>18.25</td>\n",
       "      <td>35.5</td>\n",
       "      <td>70.35</td>\n",
       "      <td>89.85</td>\n",
       "      <td>118.75</td>\n",
       "    </tr>\n",
       "  </tbody>\n",
       "</table>\n",
       "</div>"
      ],
      "text/plain": [
       "                 count       mean        std    min   25%    50%    75%  \\\n",
       "SeniorCitizen   7043.0   0.162147   0.368612   0.00   0.0   0.00   0.00   \n",
       "tenure          7043.0  32.371149  24.559481   0.00   9.0  29.00  55.00   \n",
       "MonthlyCharges  7043.0  64.761692  30.090047  18.25  35.5  70.35  89.85   \n",
       "\n",
       "                   max  \n",
       "SeniorCitizen     1.00  \n",
       "tenure           72.00  \n",
       "MonthlyCharges  118.75  "
      ]
     },
     "execution_count": 7,
     "metadata": {},
     "output_type": "execute_result"
    }
   ],
   "source": [
    "#explore numerical data\n",
    "churn.describe().transpose()"
   ]
  },
  {
   "cell_type": "code",
   "execution_count": 8,
   "metadata": {},
   "outputs": [],
   "source": [
    "# manage if there is negative\n",
    "#churn1 = churn.drop(churn[churn.revenue < 0].index)\n",
    "#churn2 = churn1.drop(churn1[churn1.eqpdays < 0].index)"
   ]
  },
  {
   "cell_type": "code",
   "execution_count": 12,
   "metadata": {},
   "outputs": [
    {
     "data": {
      "text/plain": [
       "0        No\n",
       "1        No\n",
       "2       Yes\n",
       "3        No\n",
       "4       Yes\n",
       "       ... \n",
       "7038     No\n",
       "7039     No\n",
       "7040     No\n",
       "7041    Yes\n",
       "7042     No\n",
       "Name: Churn, Length: 7043, dtype: object"
      ]
     },
     "execution_count": 12,
     "metadata": {},
     "output_type": "execute_result"
    }
   ],
   "source": [
    "#explore non numerical data\n",
    "churn['Churn'] "
   ]
  },
  {
   "cell_type": "markdown",
   "metadata": {},
   "source": [
    "## تحليل التوزيع >> Analysis of Distribution"
   ]
  },
  {
   "cell_type": "code",
   "execution_count": 19,
   "metadata": {},
   "outputs": [
    {
     "data": {
      "text/plain": [
       "<matplotlib.axes._subplots.AxesSubplot at 0x1c1584d4cc8>"
      ]
     },
     "execution_count": 19,
     "metadata": {},
     "output_type": "execute_result"
    },
    {
     "data": {
      "image/png": "[encoded data removed]",
      "text/plain": [
       "<Figure size 432x288 with 1 Axes>"
      ]
     },
     "metadata": {},
     "output_type": "display_data"
    }
   ],
   "source": [
    "#bins _> x-axis cosider count \n",
    "# y-axis consider values\n",
    "churn['gender'].hist(bins=50)"
   ]
  },
  {
   "cell_type": "code",
   "execution_count": 6,
   "metadata": {},
   "outputs": [
    {
     "data": {
      "text/plain": [
       "<matplotlib.axes._subplots.AxesSubplot at 0x1c142064dc8>"
      ]
     },
     "execution_count": 6,
     "metadata": {},
     "output_type": "execute_result"
    },
    {
     "data": {
      "image/png": "[encoded data removed]",
      "text/plain": [
       "<Figure size 432x288 with 1 Axes>"
      ]
     },
     "metadata": {},
     "output_type": "display_data"
    }
   ],
   "source": [
    "churn['MonthlyCharges'].hist(bins=50)"
   ]
  },
  {
   "cell_type": "code",
   "execution_count": 7,
   "metadata": {},
   "outputs": [],
   "source": [
    "#combine between more attricute/column to study dataset better\n",
    "#temp1= pd.crosstab(churn['total eve calls'],churn['churn'])\n",
    "#temp1.plot(kind='bar',stacked=True,color=['red','blue'],grid=False)"
   ]
  },
  {
   "cell_type": "code",
   "execution_count": 20,
   "metadata": {},
   "outputs": [
    {
     "data": {
      "text/plain": [
       "<matplotlib.axes._subplots.AxesSubplot at 0x1c157216f88>"
      ]
     },
     "execution_count": 20,
     "metadata": {},
     "output_type": "execute_result"
    },
    {
     "data": {
      "image/png": "[encoded data removed]",
      "text/plain": [
       "<Figure size 432x288 with 1 Axes>"
      ]
     },
     "metadata": {},
     "output_type": "display_data"
    }
   ],
   "source": [
    "r1_churn_Mchurge= pd.crosstab(churn[\"gender\"],churn[\"Churn\"])\n",
    "r1_churn_Mchurge.plot(kind='bar',color=[\"red\",\"black\"])"
   ]
  },
  {
   "cell_type": "code",
   "execution_count": 14,
   "metadata": {},
   "outputs": [
    {
     "data": {
      "text/plain": [
       "<matplotlib.axes._subplots.AxesSubplot at 0x1c146f28d08>"
      ]
     },
     "execution_count": 14,
     "metadata": {},
     "output_type": "execute_result"
    },
    {
     "data": {
      "image/png": "[encoded data removed]",
      "text/plain": [
       "<Figure size 576x288 with 1 Axes>"
      ]
     },
     "metadata": {},
     "output_type": "display_data"
    },
    {
     "data": {
      "image/png": "[encoded data removed]",
      "text/plain": [
       "<Figure size 432x288 with 1 Axes>"
      ]
     },
     "metadata": {},
     "output_type": "display_data"
    }
   ],
   "source": [
    "#another way\n",
    "import matplotlib.pyplot as plt\n",
    "fig =plt.figure(figsize=[8,4])\n",
    "ax1=fig.add_subplot(121)\n",
    "ax1.set_ylabel('total night calls')\n",
    "ax1.set_xlabel('churn')\n",
    "r1_churn_Mchurge.plot(kind='bar')"
   ]
  },
  {
   "cell_type": "markdown",
   "metadata": {},
   "source": [
    "# Data cleaning and preparation"
   ]
  },
  {
   "cell_type": "markdown",
   "metadata": {},
   "source": [
    "### prepare non numerical data\n",
    "\n",
    "#### missing values in the dataset : \n",
    "\n",
    "##### 1- fill--> non/standard types ( NAN , NA , na , nan , \" \" ) \n",
    "##### 2- convert--> unexpected data type (string--> yes,no,true...... to int--> 0,1,2,3......)\n"
   ]
  },
  {
   "cell_type": "code",
   "execution_count": 24,
   "metadata": {},
   "outputs": [],
   "source": [
    "#churn.convert_objects(convert_numeric=True)\n",
    "churn.fillna(0, inplace=True)\n",
    "\n",
    "def handle_non_numerical_data(churn):\n",
    "    columns=churn.columns.values\n",
    "    \n",
    "    for column in columns:\n",
    "        text_digit_vals={'yes':1,'no':0}\n",
    "        def convert_to_int(val):\n",
    "            return text_digit_vals[val]\n",
    "        \n",
    "        if churn[column].dtypes != np.int64 and churn[column].dtypes != np.float64:\n",
    "            column_contents=churn[column].values.tolist()\n",
    "            unique_elements=set(column_contents)\n",
    "            x=0\n",
    "            for unique in unique_elements:\n",
    "                if unique not in text_digit_vals:\n",
    "                    text_digit_vals[unique]=x\n",
    "                    x+=1\n",
    "            churn[column]=list(map(convert_to_int,churn[column]))\n",
    "                                \n",
    "    return churn\n",
    "                                \n",
    "churn= handle_non_numerical_data(churn)                              \n"
   ]
  },
  {
   "cell_type": "code",
   "execution_count": 25,
   "metadata": {},
   "outputs": [
    {
     "data": {
      "text/html": [
       "<div>\n",
       "<style scoped>\n",
       "    .dataframe tbody tr th:only-of-type {\n",
       "        vertical-align: middle;\n",
       "    }\n",
       "\n",
       "    .dataframe tbody tr th {\n",
       "        vertical-align: top;\n",
       "    }\n",
       "\n",
       "    .dataframe thead th {\n",
       "        text-align: right;\n",
       "    }\n",
       "</style>\n",
       "<table border=\"1\" class=\"dataframe\">\n",
       "  <thead>\n",
       "    <tr style=\"text-align: right;\">\n",
       "      <th></th>\n",
       "      <th>customerID</th>\n",
       "      <th>gender</th>\n",
       "      <th>SeniorCitizen</th>\n",
       "      <th>Partner</th>\n",
       "      <th>Dependents</th>\n",
       "      <th>tenure</th>\n",
       "      <th>PhoneService</th>\n",
       "      <th>MultipleLines</th>\n",
       "      <th>InternetService</th>\n",
       "      <th>OnlineSecurity</th>\n",
       "      <th>...</th>\n",
       "      <th>DeviceProtection</th>\n",
       "      <th>TechSupport</th>\n",
       "      <th>StreamingTV</th>\n",
       "      <th>StreamingMovies</th>\n",
       "      <th>Contract</th>\n",
       "      <th>PaperlessBilling</th>\n",
       "      <th>PaymentMethod</th>\n",
       "      <th>MonthlyCharges</th>\n",
       "      <th>TotalCharges</th>\n",
       "      <th>Churn</th>\n",
       "    </tr>\n",
       "  </thead>\n",
       "  <tbody>\n",
       "    <tr>\n",
       "      <th>0</th>\n",
       "      <td>1131</td>\n",
       "      <td>1</td>\n",
       "      <td>0</td>\n",
       "      <td>1</td>\n",
       "      <td>0</td>\n",
       "      <td>1</td>\n",
       "      <td>0</td>\n",
       "      <td>0</td>\n",
       "      <td>1</td>\n",
       "      <td>0</td>\n",
       "      <td>...</td>\n",
       "      <td>0</td>\n",
       "      <td>0</td>\n",
       "      <td>0</td>\n",
       "      <td>0</td>\n",
       "      <td>0</td>\n",
       "      <td>1</td>\n",
       "      <td>3</td>\n",
       "      <td>29.85</td>\n",
       "      <td>177</td>\n",
       "      <td>0</td>\n",
       "    </tr>\n",
       "    <tr>\n",
       "      <th>1</th>\n",
       "      <td>4781</td>\n",
       "      <td>0</td>\n",
       "      <td>0</td>\n",
       "      <td>0</td>\n",
       "      <td>0</td>\n",
       "      <td>34</td>\n",
       "      <td>1</td>\n",
       "      <td>1</td>\n",
       "      <td>1</td>\n",
       "      <td>1</td>\n",
       "      <td>...</td>\n",
       "      <td>1</td>\n",
       "      <td>0</td>\n",
       "      <td>0</td>\n",
       "      <td>0</td>\n",
       "      <td>2</td>\n",
       "      <td>0</td>\n",
       "      <td>2</td>\n",
       "      <td>56.95</td>\n",
       "      <td>5994</td>\n",
       "      <td>0</td>\n",
       "    </tr>\n",
       "    <tr>\n",
       "      <th>2</th>\n",
       "      <td>1618</td>\n",
       "      <td>0</td>\n",
       "      <td>0</td>\n",
       "      <td>0</td>\n",
       "      <td>0</td>\n",
       "      <td>2</td>\n",
       "      <td>1</td>\n",
       "      <td>1</td>\n",
       "      <td>1</td>\n",
       "      <td>1</td>\n",
       "      <td>...</td>\n",
       "      <td>0</td>\n",
       "      <td>0</td>\n",
       "      <td>0</td>\n",
       "      <td>0</td>\n",
       "      <td>0</td>\n",
       "      <td>1</td>\n",
       "      <td>2</td>\n",
       "      <td>53.85</td>\n",
       "      <td>3066</td>\n",
       "      <td>1</td>\n",
       "    </tr>\n",
       "    <tr>\n",
       "      <th>3</th>\n",
       "      <td>5987</td>\n",
       "      <td>0</td>\n",
       "      <td>0</td>\n",
       "      <td>0</td>\n",
       "      <td>0</td>\n",
       "      <td>45</td>\n",
       "      <td>0</td>\n",
       "      <td>0</td>\n",
       "      <td>1</td>\n",
       "      <td>1</td>\n",
       "      <td>...</td>\n",
       "      <td>1</td>\n",
       "      <td>1</td>\n",
       "      <td>0</td>\n",
       "      <td>0</td>\n",
       "      <td>2</td>\n",
       "      <td>0</td>\n",
       "      <td>1</td>\n",
       "      <td>42.30</td>\n",
       "      <td>3126</td>\n",
       "      <td>0</td>\n",
       "    </tr>\n",
       "    <tr>\n",
       "      <th>4</th>\n",
       "      <td>4803</td>\n",
       "      <td>1</td>\n",
       "      <td>0</td>\n",
       "      <td>0</td>\n",
       "      <td>0</td>\n",
       "      <td>2</td>\n",
       "      <td>1</td>\n",
       "      <td>1</td>\n",
       "      <td>2</td>\n",
       "      <td>0</td>\n",
       "      <td>...</td>\n",
       "      <td>0</td>\n",
       "      <td>0</td>\n",
       "      <td>0</td>\n",
       "      <td>0</td>\n",
       "      <td>0</td>\n",
       "      <td>1</td>\n",
       "      <td>3</td>\n",
       "      <td>70.70</td>\n",
       "      <td>4506</td>\n",
       "      <td>1</td>\n",
       "    </tr>\n",
       "  </tbody>\n",
       "</table>\n",
       "<p>5 rows × 21 columns</p>\n",
       "</div>"
      ],
      "text/plain": [
       "   customerID  gender  SeniorCitizen  Partner  Dependents  tenure  \\\n",
       "0        1131       1              0        1           0       1   \n",
       "1        4781       0              0        0           0      34   \n",
       "2        1618       0              0        0           0       2   \n",
       "3        5987       0              0        0           0      45   \n",
       "4        4803       1              0        0           0       2   \n",
       "\n",
       "   PhoneService  MultipleLines  InternetService  OnlineSecurity  ...  \\\n",
       "0             0              0                1               0  ...   \n",
       "1             1              1                1               1  ...   \n",
       "2             1              1                1               1  ...   \n",
       "3             0              0                1               1  ...   \n",
       "4             1              1                2               0  ...   \n",
       "\n",
       "   DeviceProtection  TechSupport  StreamingTV  StreamingMovies  Contract  \\\n",
       "0                 0            0            0                0         0   \n",
       "1                 1            0            0                0         2   \n",
       "2                 0            0            0                0         0   \n",
       "3                 1            1            0                0         2   \n",
       "4                 0            0            0                0         0   \n",
       "\n",
       "   PaperlessBilling  PaymentMethod  MonthlyCharges  TotalCharges  Churn  \n",
       "0                 1              3           29.85           177      0  \n",
       "1                 0              2           56.95          5994      0  \n",
       "2                 1              2           53.85          3066      1  \n",
       "3                 0              1           42.30          3126      0  \n",
       "4                 1              3           70.70          4506      1  \n",
       "\n",
       "[5 rows x 21 columns]"
      ]
     },
     "execution_count": 25,
     "metadata": {},
     "output_type": "execute_result"
    }
   ],
   "source": [
    "churn.head(5)"
   ]
  },
  {
   "cell_type": "markdown",
   "metadata": {},
   "source": [
    "#### put in dataframe and distribute to X and y\n"
   ]
  },
  {
   "cell_type": "code",
   "execution_count": 37,
   "metadata": {},
   "outputs": [
    {
     "data": {
      "text/plain": [
       "<matplotlib.axes._subplots.AxesSubplot at 0x1c15aae7848>"
      ]
     },
     "execution_count": 37,
     "metadata": {},
     "output_type": "execute_result"
    },
    {
     "data": {
      "image/png": "[encoded data removed]",
      "text/plain": [
       "<Figure size 432x288 with 1 Axes>"
      ]
     },
     "metadata": {},
     "output_type": "display_data"
    }
   ],
   "source": [
    "import seaborn as sns\n",
    "sns.barplot(x=churn[\"gender\"],y=churn[\"Churn\"],hue=churn[\"Churn\"])"
   ]
  },
  {
   "cell_type": "code",
   "execution_count": null,
   "metadata": {},
   "outputs": [],
   "source": [
    "X = pd.DataFrame(churn, columns = [\n",
    "#\"state\",                                   #\"state\",\"phone number\",\"international plan\"and \"voice mail plan\",                 \n",
    "                                            #problem :  data type is string\\object \n",
    "\"international plan\",\n",
    "\"voice mail plan\" ,                                 \n",
    "\"account length\" ,                   \n",
    "\"area code\",             \n",
    "\"number vmail messages\",          \n",
    "\"total day minutes\" ,             \n",
    "\"total day calls\",        \n",
    "\"total day charge\" ,      \n",
    "\"total eve minutes\" ,    \n",
    "\"total eve calls\"   ,   \n",
    "\"total eve charge\" ,   \n",
    "\"total night minutes\",         \n",
    "\"total night calls\",         \n",
    "\"total night charge\",     \n",
    "\"total intl minutes\" ,           \n",
    "\"total intl calls\",\n",
    "\"total intl charge\",                                   \n",
    "\"customer service calls\",\n",
    "])\n",
    "\n",
    "y = pd.DataFrame(churn, columns = [\"churn\"])\n"
   ]
  },
  {
   "cell_type": "markdown",
   "metadata": {},
   "source": [
    "#### prepare non numerical data after putting in dataframe\n"
   ]
  },
  {
   "cell_type": "markdown",
   "metadata": {},
   "source": [
    "from sklearn.preprocessing import LabelEncoder\n",
    "le= LabelEncoder()\n",
    "churn['account length']=le.fit_transform(churn['account length'])\n",
    "churn['area code']=le.fit_transform(churn['area code'])\n",
    "churn['number vmail messages']=le.fit_transform(churn['number vmail messages'])\n",
    "churn['total day minutes']=le.fit_transform(churn['total day minutes'])\n",
    "churn['total day calls']=le.fit_transform(churn['total day calls'])\n",
    "churn['total day charge']=le.fit_transform(churn['total day charge'])\n",
    "churn['total eve minutes']=le.fit_transform(churn['total eve minutes'])\n",
    "churn['total eve calls']=le.fit_transform(churn['total eve calls'])\n",
    "churn['total eve charge']=le.fit_transform(churn['total eve charge'])\n",
    "churn['total night minutes']=le.fit_transform(churn['total night minutes'])\n",
    "churn['total night calls']=le.fit_transform(churn['total night calls'])\n",
    "churn['total night charge']=le.fit_transform(churn['total night charge'])\n",
    "churn['total intl minutes']=le.fit_transform(churn['total intl minutes'])\n",
    "churn['total intl charge']=le.fit_transform(churn['total intl charge'])\n",
    "churn['customer service calls']=le.fit_transform(churn['customer service calls'])\n",
    "\n",
    "churn['churn']=le.fit_transform(churn['churn'])\n",
    "y.dtypes"
   ]
  },
  {
   "cell_type": "code",
   "execution_count": null,
   "metadata": {},
   "outputs": [],
   "source": [
    "#X.head(5)"
   ]
  },
  {
   "cell_type": "code",
   "execution_count": null,
   "metadata": {},
   "outputs": [],
   "source": [
    "#X.dtypes"
   ]
  },
  {
   "cell_type": "markdown",
   "metadata": {},
   "source": [
    "#away to split dataset colomns into x , y simple\n",
    "#X =churn.iloc[:,:].values\n",
    "#print(X)\n",
    "#y =churn.iloc[:,20:].values\n",
    "#print(y)"
   ]
  },
  {
   "cell_type": "code",
   "execution_count": null,
   "metadata": {},
   "outputs": [],
   "source": [
    "#shuffle to improve accuracy\n",
    "from sklearn.utils import shuffle\n",
    "X,y=shuffle(X,y)"
   ]
  },
  {
   "cell_type": "markdown",
   "metadata": {},
   "source": [
    "# Building a Predictive Model"
   ]
  },
  {
   "cell_type": "code",
   "execution_count": null,
   "metadata": {},
   "outputs": [],
   "source": [
    "from sklearn.model_selection import train_test_split\n",
    "X_train, X_test, y_train, y_test = train_test_split(X, y, stratify =y,test_size = 0.3, random_state = 0)\n"
   ]
  },
  {
   "cell_type": "code",
   "execution_count": null,
   "metadata": {},
   "outputs": [],
   "source": [
    "len(y_test)"
   ]
  },
  {
   "cell_type": "markdown",
   "metadata": {},
   "source": [
    "# prepare adata frame for model analysis"
   ]
  },
  {
   "cell_type": "markdown",
   "metadata": {},
   "source": [
    "## decision tree model\n"
   ]
  },
  {
   "cell_type": "code",
   "execution_count": null,
   "metadata": {},
   "outputs": [],
   "source": [
    "from sklearn import tree\n",
    "from sklearn.tree import DecisionTreeClassifier\n",
    "clf = DecisionTreeClassifier()\n",
    "clf = clf.fit(X_train, y_train)\n",
    "prediction =clf.predict(X_test)\n",
    "#print(prediction)"
   ]
  },
  {
   "cell_type": "code",
   "execution_count": null,
   "metadata": {},
   "outputs": [],
   "source": [
    "from sklearn.preprocessing import StandardScaler\n",
    "scaler=StandardScaler()\n",
    "X_train_scaled=scaler.fit(X_train).transform(X_train)\n",
    "X_test_scaled=scaler.fit(X_test).transform(X_test)\n",
    "\n",
    "clf=DecisionTreeClassifier()\n",
    "clf.fit(X_train_scaled,y_train.values.ravel())\n",
    "\n",
    "prediction =clf.predict(X_test_scaled)\n"
   ]
  },
  {
   "cell_type": "markdown",
   "metadata": {},
   "source": [
    "#### accuracy\n"
   ]
  },
  {
   "cell_type": "code",
   "execution_count": 30,
   "metadata": {},
   "outputs": [
    {
     "name": "stdout",
     "output_type": "stream",
     "text": [
      "accuracy = 90.3\n"
     ]
    }
   ],
   "source": [
    "from sklearn.metrics import accuracy_score \n",
    "print('accuracy =',100*accuracy_score(y_test,prediction))\n"
   ]
  },
  {
   "cell_type": "code",
   "execution_count": 31,
   "metadata": {},
   "outputs": [
    {
     "data": {
      "text/plain": [
       "1000"
      ]
     },
     "execution_count": 31,
     "metadata": {},
     "output_type": "execute_result"
    }
   ],
   "source": [
    "#print(prediction)\n",
    "len(prediction)"
   ]
  },
  {
   "cell_type": "code",
   "execution_count": 32,
   "metadata": {},
   "outputs": [
    {
     "data": {
      "text/plain": [
       "array([[810,  45],\n",
       "       [ 52,  93]], dtype=int64)"
      ]
     },
     "execution_count": 32,
     "metadata": {},
     "output_type": "execute_result"
    }
   ],
   "source": [
    "from sklearn.metrics import confusion_matrix\n",
    "confusion_matrix(y_test,prediction)"
   ]
  },
  {
   "cell_type": "code",
   "execution_count": 33,
   "metadata": {},
   "outputs": [
    {
     "data": {
      "text/plain": [
       "0.097"
      ]
     },
     "execution_count": 33,
     "metadata": {},
     "output_type": "execute_result"
    }
   ],
   "source": [
    "from sklearn.metrics import mean_squared_error\n",
    "mean_squared_error(y_test,prediction)"
   ]
  },
  {
   "cell_type": "code",
   "execution_count": 34,
   "metadata": {},
   "outputs": [
    {
     "name": "stdout",
     "output_type": "stream",
     "text": [
      "             precision    recall  f1-score   support\n",
      "\n",
      "          0       0.94      0.95      0.94       855\n",
      "          1       0.67      0.64      0.66       145\n",
      "\n",
      "avg / total       0.90      0.90      0.90      1000\n",
      "\n"
     ]
    }
   ],
   "source": [
    "from sklearn.metrics import classification_report\n",
    "print(classification_report(y_test,prediction))"
   ]
  },
  {
   "cell_type": "markdown",
   "metadata": {},
   "source": [
    "# plot decision tree\n",
    "from numpy import loadtxt\n",
    "from xgboost import XGBClassifier\n",
    "from xgboost import plot_tree\n",
    "import matplotlib.pyplot as plt\n",
    "# fit model no training data\n",
    "\n",
    "model = XGBClassifier()\n",
    "model.fit(X_train, y_train.values.ravel())\n",
    "# plot single tree\n",
    "plot_tree(model)\n",
    "plt.show()"
   ]
  },
  {
   "cell_type": "markdown",
   "metadata": {},
   "source": [
    "## random forest model\n"
   ]
  },
  {
   "cell_type": "code",
   "execution_count": 35,
   "metadata": {},
   "outputs": [],
   "source": [
    "#from sklearn.feature_selection import RFECV"
   ]
  },
  {
   "cell_type": "code",
   "execution_count": null,
   "metadata": {},
   "outputs": [],
   "source": [
    "#m=RFECV(RandomForestClassifier(),scoring='roc_auc')\n",
    "#m.fit(X,y.values.ravel())"
   ]
  },
  {
   "cell_type": "code",
   "execution_count": null,
   "metadata": {},
   "outputs": [],
   "source": [
    "#m.score(X,y)"
   ]
  },
  {
   "cell_type": "code",
   "execution_count": 36,
   "metadata": {},
   "outputs": [],
   "source": [
    "from sklearn.ensemble import RandomForestClassifier\n",
    "\n",
    "clf_rf = RandomForestClassifier(n_estimators=10)\n",
    "clf_rf = clf_rf.fit(X_train, y_train.values.ravel())   ## .values.ravel() solve y vector problem\n",
    "prediction =clf.predict(X_test)\n",
    "#print(prediction)"
   ]
  },
  {
   "cell_type": "code",
   "execution_count": 37,
   "metadata": {},
   "outputs": [],
   "source": [
    "from sklearn.preprocessing import StandardScaler\n",
    "scaler=StandardScaler()\n",
    "X_train_scaled=scaler.fit(X_train).transform(X_train)\n",
    "X_test_scaled=scaler.fit(X_test).transform(X_test)\n",
    "\n",
    "clf_rf=RandomForestClassifier(n_estimators=15)\n",
    "clf_rf.fit(X_train_scaled,y_train.values.ravel())\n",
    "\n",
    "prediction =clf_rf.predict(X_test_scaled)\n"
   ]
  },
  {
   "cell_type": "markdown",
   "metadata": {},
   "source": [
    "#### accuracy\n"
   ]
  },
  {
   "cell_type": "code",
   "execution_count": 10,
   "metadata": {
    "scrolled": true
   },
   "outputs": [
    {
     "ename": "NameError",
     "evalue": "name 'y_test' is not defined",
     "output_type": "error",
     "traceback": [
      "\u001b[1;31m---------------------------------------------------------------------------\u001b[0m",
      "\u001b[1;31mNameError\u001b[0m                                 Traceback (most recent call last)",
      "\u001b[1;32m<ipython-input-10-31b637b32a2b>\u001b[0m in \u001b[0;36m<module>\u001b[1;34m\u001b[0m\n\u001b[0;32m      1\u001b[0m \u001b[1;32mfrom\u001b[0m \u001b[0msklearn\u001b[0m\u001b[1;33m.\u001b[0m\u001b[0mmetrics\u001b[0m \u001b[1;32mimport\u001b[0m \u001b[0maccuracy_score\u001b[0m\u001b[1;33m\u001b[0m\u001b[1;33m\u001b[0m\u001b[0m\n\u001b[1;32m----> 2\u001b[1;33m \u001b[0mprint\u001b[0m\u001b[1;33m(\u001b[0m\u001b[1;34m'accuracy ='\u001b[0m\u001b[1;33m,\u001b[0m\u001b[1;36m100\u001b[0m\u001b[1;33m*\u001b[0m\u001b[0maccuracy_score\u001b[0m\u001b[1;33m(\u001b[0m\u001b[0my_test\u001b[0m\u001b[1;33m,\u001b[0m\u001b[0mprediction\u001b[0m\u001b[1;33m)\u001b[0m\u001b[1;33m)\u001b[0m\u001b[1;33m\u001b[0m\u001b[1;33m\u001b[0m\u001b[0m\n\u001b[0m",
      "\u001b[1;31mNameError\u001b[0m: name 'y_test' is not defined"
     ]
    }
   ],
   "source": [
    "from sklearn.metrics import accuracy_score \n",
    "print('accuracy =',100*accuracy_score(y_test,prediction))"
   ]
  },
  {
   "cell_type": "code",
   "execution_count": 39,
   "metadata": {},
   "outputs": [
    {
     "data": {
      "text/plain": [
       "0.058"
      ]
     },
     "execution_count": 39,
     "metadata": {},
     "output_type": "execute_result"
    }
   ],
   "source": [
    "from sklearn.metrics import mean_squared_error\n",
    "mean_squared_error(y_test,prediction)"
   ]
  },
  {
   "cell_type": "markdown",
   "metadata": {},
   "source": [
    "#### Confusion matrix"
   ]
  },
  {
   "cell_type": "code",
   "execution_count": 40,
   "metadata": {},
   "outputs": [
    {
     "data": {
      "text/plain": [
       "array([[846,   9],\n",
       "       [ 49,  96]], dtype=int64)"
      ]
     },
     "execution_count": 40,
     "metadata": {},
     "output_type": "execute_result"
    }
   ],
   "source": [
    "from sklearn.metrics import confusion_matrix\n",
    "confusion_matrix(y_test,prediction)"
   ]
  },
  {
   "cell_type": "code",
   "execution_count": 41,
   "metadata": {},
   "outputs": [
    {
     "name": "stdout",
     "output_type": "stream",
     "text": [
      "             precision    recall  f1-score   support\n",
      "\n",
      "          0       0.95      0.99      0.97       855\n",
      "          1       0.91      0.66      0.77       145\n",
      "\n",
      "avg / total       0.94      0.94      0.94      1000\n",
      "\n"
     ]
    }
   ],
   "source": [
    "from sklearn.metrics import classification_report\n",
    "print(classification_report(y_test,prediction))"
   ]
  },
  {
   "cell_type": "code",
   "execution_count": 42,
   "metadata": {},
   "outputs": [
    {
     "data": {
      "text/plain": [
       "total day charge          0.181532\n",
       "customer service calls    0.114125\n",
       "total intl calls          0.098700\n",
       "international plan        0.085660\n",
       "total intl minutes        0.084785\n",
       "total day minutes         0.079687\n",
       "total eve charge          0.069019\n",
       "total eve minutes         0.057198\n",
       "voice mail plan           0.039679\n",
       "total eve calls           0.032959\n",
       "total day calls           0.032334\n",
       "account length            0.026549\n",
       "total night charge        0.026321\n",
       "total intl charge         0.021539\n",
       "total night calls         0.014701\n",
       "total night minutes       0.013434\n",
       "number vmail messages     0.012538\n",
       "area code                 0.009238\n",
       "dtype: float64"
      ]
     },
     "execution_count": 42,
     "metadata": {},
     "output_type": "execute_result"
    }
   ],
   "source": [
    "feature_imp = pd.Series(clf.feature_importances_,index=X.columns).sort_values(ascending=False)\n",
    "feature_imp"
   ]
  },
  {
   "cell_type": "code",
   "execution_count": 43,
   "metadata": {},
   "outputs": [
    {
     "data": {
      "image/png": "[encoded data removed]",
      "text/plain": [
       "<Figure size 432x288 with 1 Axes>"
      ]
     },
     "metadata": {},
     "output_type": "display_data"
    }
   ],
   "source": [
    "import matplotlib.pyplot as plt\n",
    "import seaborn as sns\n",
    "#%matplotlib inline\n",
    "# Creating a bar plot\n",
    "sns.barplot(x=feature_imp, y=feature_imp.index)\n",
    "# Add labels to your graph\n",
    "plt.xlabel('Feature Importance Score')\n",
    "plt.ylabel('Features')\n",
    "plt.title(\"Visualizing Important Features\")\n",
    "#plt.legend()\n",
    "plt.show()"
   ]
  },
  {
   "cell_type": "code",
   "execution_count": 44,
   "metadata": {},
   "outputs": [],
   "source": [
    "X = pd.DataFrame(churn, columns = [\n",
    "#\"state\",                                   #\"state\",\"phone number\",\"international plan\"and \"voice mail plan\",                 \n",
    "                                            #problem :  data type is string\\object \n",
    "\"international plan\",\n",
    "\"voice mail plan\" ,                                 \n",
    "\"account length\" ,                   \n",
    "#\"area code\",             \n",
    "#\"number vmail messages\",          \n",
    "\"total day minutes\" ,             \n",
    "#\"total day calls\",        \n",
    "\"total day charge\" ,      \n",
    "\"total eve minutes\" ,    \n",
    "\"total eve calls\"   ,   \n",
    "#\"total eve charge\" ,   \n",
    "\"total night minutes\",         \n",
    "#\"total night calls\",         \n",
    "\"total night charge\",     \n",
    "#\"total intl minutes\" ,           \n",
    "\"total intl calls\",\n",
    "\"total intl charge\",                                   \n",
    "\"customer service calls\",\n",
    "])\n",
    "\n",
    "y = pd.DataFrame(churn, columns = [\"churn\"])\n"
   ]
  },
  {
   "cell_type": "code",
   "execution_count": 45,
   "metadata": {},
   "outputs": [],
   "source": [
    "from sklearn.ensemble import RandomForestClassifier\n",
    "\n",
    "clf_rf = RandomForestClassifier(n_estimators=10)\n",
    "clf_rf = clf_rf.fit(X_train, y_train.values.ravel())   ## .values.ravel() solve y vector problem\n",
    "prediction =clf.predict(X_test)\n",
    "#print(prediction)"
   ]
  },
  {
   "cell_type": "code",
   "execution_count": 46,
   "metadata": {},
   "outputs": [],
   "source": [
    "from sklearn.preprocessing import StandardScaler\n",
    "scaler=StandardScaler()\n",
    "X_train_scaled=scaler.fit(X_train).transform(X_train)\n",
    "X_test_scaled=scaler.fit(X_test).transform(X_test)\n",
    "\n",
    "clf_rf=RandomForestClassifier(n_estimators=15)\n",
    "clf_rf.fit(X_train_scaled,y_train.values.ravel())\n",
    "\n",
    "prediction =clf_rf.predict(X_test_scaled)\n"
   ]
  },
  {
   "cell_type": "code",
   "execution_count": 47,
   "metadata": {},
   "outputs": [
    {
     "name": "stdout",
     "output_type": "stream",
     "text": [
      "accuracy = 94.3\n"
     ]
    }
   ],
   "source": [
    "from sklearn.metrics import accuracy_score \n",
    "print('accuracy =',100*accuracy_score(y_test,prediction))"
   ]
  },
  {
   "cell_type": "code",
   "execution_count": 48,
   "metadata": {},
   "outputs": [],
   "source": [
    "from sklearn.neural_network import MLPClassifier\n",
    "mlp=MLPClassifier(random_state=42)\n",
    "mlp.fit(X_train,y_train.values.ravel())\n",
    "prediction =mlp.predict(X_test)\n"
   ]
  },
  {
   "cell_type": "markdown",
   "metadata": {},
   "source": [
    "#### accuracy\n"
   ]
  },
  {
   "cell_type": "code",
   "execution_count": 49,
   "metadata": {},
   "outputs": [
    {
     "name": "stdout",
     "output_type": "stream",
     "text": [
      "accuracy = 86.5\n"
     ]
    }
   ],
   "source": [
    "from sklearn.metrics import accuracy_score \n",
    "print('accuracy =',100*accuracy_score(y_test,prediction))\n"
   ]
  },
  {
   "cell_type": "markdown",
   "metadata": {},
   "source": [
    "#### imorove model"
   ]
  },
  {
   "cell_type": "code",
   "execution_count": 50,
   "metadata": {},
   "outputs": [],
   "source": [
    "from sklearn.preprocessing import StandardScaler\n",
    "scaler=StandardScaler()\n",
    "X_train_scaled=scaler.fit(X_train).transform(X_train)\n",
    "X_test_scaled=scaler.fit(X_test).transform(X_test)\n",
    "\n",
    "mlp=MLPClassifier(max_iter=1000,alpha=1,random_state=42)\n",
    "mlp.fit(X_train_scaled,y_train.values.ravel())\n",
    "\n",
    "prediction =mlp.predict(X_test_scaled)\n"
   ]
  },
  {
   "cell_type": "markdown",
   "metadata": {},
   "source": [
    "#### accuracy\n"
   ]
  },
  {
   "cell_type": "code",
   "execution_count": 51,
   "metadata": {},
   "outputs": [
    {
     "name": "stdout",
     "output_type": "stream",
     "text": [
      "accuracy = 92.7\n"
     ]
    }
   ],
   "source": [
    "from sklearn.metrics import accuracy_score \n",
    "print('accuracy =',100*accuracy_score(y_test,prediction))\n",
    "\n"
   ]
  },
  {
   "cell_type": "code",
   "execution_count": 52,
   "metadata": {
    "scrolled": true
   },
   "outputs": [
    {
     "name": "stdout",
     "output_type": "stream",
     "text": [
      "             precision    recall  f1-score   support\n",
      "\n",
      "          0       0.93      0.99      0.96       855\n",
      "          1       0.88      0.57      0.69       145\n",
      "\n",
      "avg / total       0.92      0.93      0.92      1000\n",
      "\n"
     ]
    }
   ],
   "source": [
    "from sklearn.metrics import classification_report\n",
    "print(classification_report(y_test,prediction))"
   ]
  },
  {
   "cell_type": "markdown",
   "metadata": {},
   "source": [
    "# Evaluating Model\n",
    "###cross validation(select best model)\n",
    "####kfold"
   ]
  },
  {
   "cell_type": "code",
   "execution_count": 591,
   "metadata": {},
   "outputs": [
    {
     "data": {
      "text/plain": [
       "KFold(n_splits=10, random_state=None, shuffle=False)"
      ]
     },
     "execution_count": 591,
     "metadata": {},
     "output_type": "execute_result"
    }
   ],
   "source": [
    "from sklearn.model_selection import KFold\n",
    "kf=KFold(n_splits=10)\n",
    "kf"
   ]
  },
  {
   "cell_type": "code",
   "execution_count": 592,
   "metadata": {
    "scrolled": false
   },
   "outputs": [
    {
     "name": "stdout",
     "output_type": "stream",
     "text": [
      "[ 334  335  336 ... 3330 3331 3332] [  0   1   2   3   4   5   6   7   8   9  10  11  12  13  14  15  16  17\n",
      "  18  19  20  21  22  23  24  25  26  27  28  29  30  31  32  33  34  35\n",
      "  36  37  38  39  40  41  42  43  44  45  46  47  48  49  50  51  52  53\n",
      "  54  55  56  57  58  59  60  61  62  63  64  65  66  67  68  69  70  71\n",
      "  72  73  74  75  76  77  78  79  80  81  82  83  84  85  86  87  88  89\n",
      "  90  91  92  93  94  95  96  97  98  99 100 101 102 103 104 105 106 107\n",
      " 108 109 110 111 112 113 114 115 116 117 118 119 120 121 122 123 124 125\n",
      " 126 127 128 129 130 131 132 133 134 135 136 137 138 139 140 141 142 143\n",
      " 144 145 146 147 148 149 150 151 152 153 154 155 156 157 158 159 160 161\n",
      " 162 163 164 165 166 167 168 169 170 171 172 173 174 175 176 177 178 179\n",
      " 180 181 182 183 184 185 186 187 188 189 190 191 192 193 194 195 196 197\n",
      " 198 199 200 201 202 203 204 205 206 207 208 209 210 211 212 213 214 215\n",
      " 216 217 218 219 220 221 222 223 224 225 226 227 228 229 230 231 232 233\n",
      " 234 235 236 237 238 239 240 241 242 243 244 245 246 247 248 249 250 251\n",
      " 252 253 254 255 256 257 258 259 260 261 262 263 264 265 266 267 268 269\n",
      " 270 271 272 273 274 275 276 277 278 279 280 281 282 283 284 285 286 287\n",
      " 288 289 290 291 292 293 294 295 296 297 298 299 300 301 302 303 304 305\n",
      " 306 307 308 309 310 311 312 313 314 315 316 317 318 319 320 321 322 323\n",
      " 324 325 326 327 328 329 330 331 332 333]\n",
      "[   0    1    2 ... 3330 3331 3332] [334 335 336 337 338 339 340 341 342 343 344 345 346 347 348 349 350 351\n",
      " 352 353 354 355 356 357 358 359 360 361 362 363 364 365 366 367 368 369\n",
      " 370 371 372 373 374 375 376 377 378 379 380 381 382 383 384 385 386 387\n",
      " 388 389 390 391 392 393 394 395 396 397 398 399 400 401 402 403 404 405\n",
      " 406 407 408 409 410 411 412 413 414 415 416 417 418 419 420 421 422 423\n",
      " 424 425 426 427 428 429 430 431 432 433 434 435 436 437 438 439 440 441\n",
      " 442 443 444 445 446 447 448 449 450 451 452 453 454 455 456 457 458 459\n",
      " 460 461 462 463 464 465 466 467 468 469 470 471 472 473 474 475 476 477\n",
      " 478 479 480 481 482 483 484 485 486 487 488 489 490 491 492 493 494 495\n",
      " 496 497 498 499 500 501 502 503 504 505 506 507 508 509 510 511 512 513\n",
      " 514 515 516 517 518 519 520 521 522 523 524 525 526 527 528 529 530 531\n",
      " 532 533 534 535 536 537 538 539 540 541 542 543 544 545 546 547 548 549\n",
      " 550 551 552 553 554 555 556 557 558 559 560 561 562 563 564 565 566 567\n",
      " 568 569 570 571 572 573 574 575 576 577 578 579 580 581 582 583 584 585\n",
      " 586 587 588 589 590 591 592 593 594 595 596 597 598 599 600 601 602 603\n",
      " 604 605 606 607 608 609 610 611 612 613 614 615 616 617 618 619 620 621\n",
      " 622 623 624 625 626 627 628 629 630 631 632 633 634 635 636 637 638 639\n",
      " 640 641 642 643 644 645 646 647 648 649 650 651 652 653 654 655 656 657\n",
      " 658 659 660 661 662 663 664 665 666 667]\n",
      "[   0    1    2 ... 3330 3331 3332] [ 668  669  670  671  672  673  674  675  676  677  678  679  680  681\n",
      "  682  683  684  685  686  687  688  689  690  691  692  693  694  695\n",
      "  696  697  698  699  700  701  702  703  704  705  706  707  708  709\n",
      "  710  711  712  713  714  715  716  717  718  719  720  721  722  723\n",
      "  724  725  726  727  728  729  730  731  732  733  734  735  736  737\n",
      "  738  739  740  741  742  743  744  745  746  747  748  749  750  751\n",
      "  752  753  754  755  756  757  758  759  760  761  762  763  764  765\n",
      "  766  767  768  769  770  771  772  773  774  775  776  777  778  779\n",
      "  780  781  782  783  784  785  786  787  788  789  790  791  792  793\n",
      "  794  795  796  797  798  799  800  801  802  803  804  805  806  807\n",
      "  808  809  810  811  812  813  814  815  816  817  818  819  820  821\n",
      "  822  823  824  825  826  827  828  829  830  831  832  833  834  835\n",
      "  836  837  838  839  840  841  842  843  844  845  846  847  848  849\n",
      "  850  851  852  853  854  855  856  857  858  859  860  861  862  863\n",
      "  864  865  866  867  868  869  870  871  872  873  874  875  876  877\n",
      "  878  879  880  881  882  883  884  885  886  887  888  889  890  891\n",
      "  892  893  894  895  896  897  898  899  900  901  902  903  904  905\n",
      "  906  907  908  909  910  911  912  913  914  915  916  917  918  919\n",
      "  920  921  922  923  924  925  926  927  928  929  930  931  932  933\n",
      "  934  935  936  937  938  939  940  941  942  943  944  945  946  947\n",
      "  948  949  950  951  952  953  954  955  956  957  958  959  960  961\n",
      "  962  963  964  965  966  967  968  969  970  971  972  973  974  975\n",
      "  976  977  978  979  980  981  982  983  984  985  986  987  988  989\n",
      "  990  991  992  993  994  995  996  997  998  999 1000 1001]\n",
      "[   0    1    2 ... 3330 3331 3332] [1002 1003 1004 1005 1006 1007 1008 1009 1010 1011 1012 1013 1014 1015\n",
      " 1016 1017 1018 1019 1020 1021 1022 1023 1024 1025 1026 1027 1028 1029\n",
      " 1030 1031 1032 1033 1034 1035 1036 1037 1038 1039 1040 1041 1042 1043\n",
      " 1044 1045 1046 1047 1048 1049 1050 1051 1052 1053 1054 1055 1056 1057\n",
      " 1058 1059 1060 1061 1062 1063 1064 1065 1066 1067 1068 1069 1070 1071\n",
      " 1072 1073 1074 1075 1076 1077 1078 1079 1080 1081 1082 1083 1084 1085\n",
      " 1086 1087 1088 1089 1090 1091 1092 1093 1094 1095 1096 1097 1098 1099\n",
      " 1100 1101 1102 1103 1104 1105 1106 1107 1108 1109 1110 1111 1112 1113\n",
      " 1114 1115 1116 1117 1118 1119 1120 1121 1122 1123 1124 1125 1126 1127\n",
      " 1128 1129 1130 1131 1132 1133 1134 1135 1136 1137 1138 1139 1140 1141\n",
      " 1142 1143 1144 1145 1146 1147 1148 1149 1150 1151 1152 1153 1154 1155\n",
      " 1156 1157 1158 1159 1160 1161 1162 1163 1164 1165 1166 1167 1168 1169\n",
      " 1170 1171 1172 1173 1174 1175 1176 1177 1178 1179 1180 1181 1182 1183\n",
      " 1184 1185 1186 1187 1188 1189 1190 1191 1192 1193 1194 1195 1196 1197\n",
      " 1198 1199 1200 1201 1202 1203 1204 1205 1206 1207 1208 1209 1210 1211\n",
      " 1212 1213 1214 1215 1216 1217 1218 1219 1220 1221 1222 1223 1224 1225\n",
      " 1226 1227 1228 1229 1230 1231 1232 1233 1234 1235 1236 1237 1238 1239\n",
      " 1240 1241 1242 1243 1244 1245 1246 1247 1248 1249 1250 1251 1252 1253\n",
      " 1254 1255 1256 1257 1258 1259 1260 1261 1262 1263 1264 1265 1266 1267\n",
      " 1268 1269 1270 1271 1272 1273 1274 1275 1276 1277 1278 1279 1280 1281\n",
      " 1282 1283 1284 1285 1286 1287 1288 1289 1290 1291 1292 1293 1294 1295\n",
      " 1296 1297 1298 1299 1300 1301 1302 1303 1304 1305 1306 1307 1308 1309\n",
      " 1310 1311 1312 1313 1314 1315 1316 1317 1318 1319 1320 1321 1322 1323\n",
      " 1324 1325 1326 1327 1328 1329 1330 1331 1332 1333 1334]\n",
      "[   0    1    2 ... 3330 3331 3332] [1335 1336 1337 1338 1339 1340 1341 1342 1343 1344 1345 1346 1347 1348\n",
      " 1349 1350 1351 1352 1353 1354 1355 1356 1357 1358 1359 1360 1361 1362\n",
      " 1363 1364 1365 1366 1367 1368 1369 1370 1371 1372 1373 1374 1375 1376\n",
      " 1377 1378 1379 1380 1381 1382 1383 1384 1385 1386 1387 1388 1389 1390\n",
      " 1391 1392 1393 1394 1395 1396 1397 1398 1399 1400 1401 1402 1403 1404\n",
      " 1405 1406 1407 1408 1409 1410 1411 1412 1413 1414 1415 1416 1417 1418\n",
      " 1419 1420 1421 1422 1423 1424 1425 1426 1427 1428 1429 1430 1431 1432\n",
      " 1433 1434 1435 1436 1437 1438 1439 1440 1441 1442 1443 1444 1445 1446\n",
      " 1447 1448 1449 1450 1451 1452 1453 1454 1455 1456 1457 1458 1459 1460\n",
      " 1461 1462 1463 1464 1465 1466 1467 1468 1469 1470 1471 1472 1473 1474\n",
      " 1475 1476 1477 1478 1479 1480 1481 1482 1483 1484 1485 1486 1487 1488\n",
      " 1489 1490 1491 1492 1493 1494 1495 1496 1497 1498 1499 1500 1501 1502\n",
      " 1503 1504 1505 1506 1507 1508 1509 1510 1511 1512 1513 1514 1515 1516\n",
      " 1517 1518 1519 1520 1521 1522 1523 1524 1525 1526 1527 1528 1529 1530\n",
      " 1531 1532 1533 1534 1535 1536 1537 1538 1539 1540 1541 1542 1543 1544\n",
      " 1545 1546 1547 1548 1549 1550 1551 1552 1553 1554 1555 1556 1557 1558\n",
      " 1559 1560 1561 1562 1563 1564 1565 1566 1567 1568 1569 1570 1571 1572\n",
      " 1573 1574 1575 1576 1577 1578 1579 1580 1581 1582 1583 1584 1585 1586\n",
      " 1587 1588 1589 1590 1591 1592 1593 1594 1595 1596 1597 1598 1599 1600\n",
      " 1601 1602 1603 1604 1605 1606 1607 1608 1609 1610 1611 1612 1613 1614\n",
      " 1615 1616 1617 1618 1619 1620 1621 1622 1623 1624 1625 1626 1627 1628\n",
      " 1629 1630 1631 1632 1633 1634 1635 1636 1637 1638 1639 1640 1641 1642\n",
      " 1643 1644 1645 1646 1647 1648 1649 1650 1651 1652 1653 1654 1655 1656\n",
      " 1657 1658 1659 1660 1661 1662 1663 1664 1665 1666 1667]\n",
      "[   0    1    2 ... 3330 3331 3332] [1668 1669 1670 1671 1672 1673 1674 1675 1676 1677 1678 1679 1680 1681\n",
      " 1682 1683 1684 1685 1686 1687 1688 1689 1690 1691 1692 1693 1694 1695\n",
      " 1696 1697 1698 1699 1700 1701 1702 1703 1704 1705 1706 1707 1708 1709\n",
      " 1710 1711 1712 1713 1714 1715 1716 1717 1718 1719 1720 1721 1722 1723\n",
      " 1724 1725 1726 1727 1728 1729 1730 1731 1732 1733 1734 1735 1736 1737\n",
      " 1738 1739 1740 1741 1742 1743 1744 1745 1746 1747 1748 1749 1750 1751\n",
      " 1752 1753 1754 1755 1756 1757 1758 1759 1760 1761 1762 1763 1764 1765\n",
      " 1766 1767 1768 1769 1770 1771 1772 1773 1774 1775 1776 1777 1778 1779\n",
      " 1780 1781 1782 1783 1784 1785 1786 1787 1788 1789 1790 1791 1792 1793\n",
      " 1794 1795 1796 1797 1798 1799 1800 1801 1802 1803 1804 1805 1806 1807\n",
      " 1808 1809 1810 1811 1812 1813 1814 1815 1816 1817 1818 1819 1820 1821\n",
      " 1822 1823 1824 1825 1826 1827 1828 1829 1830 1831 1832 1833 1834 1835\n",
      " 1836 1837 1838 1839 1840 1841 1842 1843 1844 1845 1846 1847 1848 1849\n",
      " 1850 1851 1852 1853 1854 1855 1856 1857 1858 1859 1860 1861 1862 1863\n",
      " 1864 1865 1866 1867 1868 1869 1870 1871 1872 1873 1874 1875 1876 1877\n",
      " 1878 1879 1880 1881 1882 1883 1884 1885 1886 1887 1888 1889 1890 1891\n",
      " 1892 1893 1894 1895 1896 1897 1898 1899 1900 1901 1902 1903 1904 1905\n",
      " 1906 1907 1908 1909 1910 1911 1912 1913 1914 1915 1916 1917 1918 1919\n",
      " 1920 1921 1922 1923 1924 1925 1926 1927 1928 1929 1930 1931 1932 1933\n",
      " 1934 1935 1936 1937 1938 1939 1940 1941 1942 1943 1944 1945 1946 1947\n",
      " 1948 1949 1950 1951 1952 1953 1954 1955 1956 1957 1958 1959 1960 1961\n",
      " 1962 1963 1964 1965 1966 1967 1968 1969 1970 1971 1972 1973 1974 1975\n",
      " 1976 1977 1978 1979 1980 1981 1982 1983 1984 1985 1986 1987 1988 1989\n",
      " 1990 1991 1992 1993 1994 1995 1996 1997 1998 1999 2000]\n",
      "[   0    1    2 ... 3330 3331 3332] [2001 2002 2003 2004 2005 2006 2007 2008 2009 2010 2011 2012 2013 2014\n",
      " 2015 2016 2017 2018 2019 2020 2021 2022 2023 2024 2025 2026 2027 2028\n",
      " 2029 2030 2031 2032 2033 2034 2035 2036 2037 2038 2039 2040 2041 2042\n",
      " 2043 2044 2045 2046 2047 2048 2049 2050 2051 2052 2053 2054 2055 2056\n",
      " 2057 2058 2059 2060 2061 2062 2063 2064 2065 2066 2067 2068 2069 2070\n",
      " 2071 2072 2073 2074 2075 2076 2077 2078 2079 2080 2081 2082 2083 2084\n",
      " 2085 2086 2087 2088 2089 2090 2091 2092 2093 2094 2095 2096 2097 2098\n",
      " 2099 2100 2101 2102 2103 2104 2105 2106 2107 2108 2109 2110 2111 2112\n",
      " 2113 2114 2115 2116 2117 2118 2119 2120 2121 2122 2123 2124 2125 2126\n",
      " 2127 2128 2129 2130 2131 2132 2133 2134 2135 2136 2137 2138 2139 2140\n",
      " 2141 2142 2143 2144 2145 2146 2147 2148 2149 2150 2151 2152 2153 2154\n",
      " 2155 2156 2157 2158 2159 2160 2161 2162 2163 2164 2165 2166 2167 2168\n",
      " 2169 2170 2171 2172 2173 2174 2175 2176 2177 2178 2179 2180 2181 2182\n",
      " 2183 2184 2185 2186 2187 2188 2189 2190 2191 2192 2193 2194 2195 2196\n",
      " 2197 2198 2199 2200 2201 2202 2203 2204 2205 2206 2207 2208 2209 2210\n",
      " 2211 2212 2213 2214 2215 2216 2217 2218 2219 2220 2221 2222 2223 2224\n",
      " 2225 2226 2227 2228 2229 2230 2231 2232 2233 2234 2235 2236 2237 2238\n",
      " 2239 2240 2241 2242 2243 2244 2245 2246 2247 2248 2249 2250 2251 2252\n",
      " 2253 2254 2255 2256 2257 2258 2259 2260 2261 2262 2263 2264 2265 2266\n",
      " 2267 2268 2269 2270 2271 2272 2273 2274 2275 2276 2277 2278 2279 2280\n",
      " 2281 2282 2283 2284 2285 2286 2287 2288 2289 2290 2291 2292 2293 2294\n",
      " 2295 2296 2297 2298 2299 2300 2301 2302 2303 2304 2305 2306 2307 2308\n",
      " 2309 2310 2311 2312 2313 2314 2315 2316 2317 2318 2319 2320 2321 2322\n",
      " 2323 2324 2325 2326 2327 2328 2329 2330 2331 2332 2333]\n",
      "[   0    1    2 ... 3330 3331 3332] [2334 2335 2336 2337 2338 2339 2340 2341 2342 2343 2344 2345 2346 2347\n",
      " 2348 2349 2350 2351 2352 2353 2354 2355 2356 2357 2358 2359 2360 2361\n",
      " 2362 2363 2364 2365 2366 2367 2368 2369 2370 2371 2372 2373 2374 2375\n",
      " 2376 2377 2378 2379 2380 2381 2382 2383 2384 2385 2386 2387 2388 2389\n",
      " 2390 2391 2392 2393 2394 2395 2396 2397 2398 2399 2400 2401 2402 2403\n",
      " 2404 2405 2406 2407 2408 2409 2410 2411 2412 2413 2414 2415 2416 2417\n",
      " 2418 2419 2420 2421 2422 2423 2424 2425 2426 2427 2428 2429 2430 2431\n",
      " 2432 2433 2434 2435 2436 2437 2438 2439 2440 2441 2442 2443 2444 2445\n",
      " 2446 2447 2448 2449 2450 2451 2452 2453 2454 2455 2456 2457 2458 2459\n",
      " 2460 2461 2462 2463 2464 2465 2466 2467 2468 2469 2470 2471 2472 2473\n",
      " 2474 2475 2476 2477 2478 2479 2480 2481 2482 2483 2484 2485 2486 2487\n",
      " 2488 2489 2490 2491 2492 2493 2494 2495 2496 2497 2498 2499 2500 2501\n",
      " 2502 2503 2504 2505 2506 2507 2508 2509 2510 2511 2512 2513 2514 2515\n",
      " 2516 2517 2518 2519 2520 2521 2522 2523 2524 2525 2526 2527 2528 2529\n",
      " 2530 2531 2532 2533 2534 2535 2536 2537 2538 2539 2540 2541 2542 2543\n",
      " 2544 2545 2546 2547 2548 2549 2550 2551 2552 2553 2554 2555 2556 2557\n",
      " 2558 2559 2560 2561 2562 2563 2564 2565 2566 2567 2568 2569 2570 2571\n",
      " 2572 2573 2574 2575 2576 2577 2578 2579 2580 2581 2582 2583 2584 2585\n",
      " 2586 2587 2588 2589 2590 2591 2592 2593 2594 2595 2596 2597 2598 2599\n",
      " 2600 2601 2602 2603 2604 2605 2606 2607 2608 2609 2610 2611 2612 2613\n",
      " 2614 2615 2616 2617 2618 2619 2620 2621 2622 2623 2624 2625 2626 2627\n",
      " 2628 2629 2630 2631 2632 2633 2634 2635 2636 2637 2638 2639 2640 2641\n",
      " 2642 2643 2644 2645 2646 2647 2648 2649 2650 2651 2652 2653 2654 2655\n",
      " 2656 2657 2658 2659 2660 2661 2662 2663 2664 2665 2666]\n",
      "[   0    1    2 ... 3330 3331 3332] [2667 2668 2669 2670 2671 2672 2673 2674 2675 2676 2677 2678 2679 2680\n",
      " 2681 2682 2683 2684 2685 2686 2687 2688 2689 2690 2691 2692 2693 2694\n",
      " 2695 2696 2697 2698 2699 2700 2701 2702 2703 2704 2705 2706 2707 2708\n",
      " 2709 2710 2711 2712 2713 2714 2715 2716 2717 2718 2719 2720 2721 2722\n",
      " 2723 2724 2725 2726 2727 2728 2729 2730 2731 2732 2733 2734 2735 2736\n",
      " 2737 2738 2739 2740 2741 2742 2743 2744 2745 2746 2747 2748 2749 2750\n",
      " 2751 2752 2753 2754 2755 2756 2757 2758 2759 2760 2761 2762 2763 2764\n",
      " 2765 2766 2767 2768 2769 2770 2771 2772 2773 2774 2775 2776 2777 2778\n",
      " 2779 2780 2781 2782 2783 2784 2785 2786 2787 2788 2789 2790 2791 2792\n",
      " 2793 2794 2795 2796 2797 2798 2799 2800 2801 2802 2803 2804 2805 2806\n",
      " 2807 2808 2809 2810 2811 2812 2813 2814 2815 2816 2817 2818 2819 2820\n",
      " 2821 2822 2823 2824 2825 2826 2827 2828 2829 2830 2831 2832 2833 2834\n",
      " 2835 2836 2837 2838 2839 2840 2841 2842 2843 2844 2845 2846 2847 2848\n",
      " 2849 2850 2851 2852 2853 2854 2855 2856 2857 2858 2859 2860 2861 2862\n",
      " 2863 2864 2865 2866 2867 2868 2869 2870 2871 2872 2873 2874 2875 2876\n",
      " 2877 2878 2879 2880 2881 2882 2883 2884 2885 2886 2887 2888 2889 2890\n",
      " 2891 2892 2893 2894 2895 2896 2897 2898 2899 2900 2901 2902 2903 2904\n",
      " 2905 2906 2907 2908 2909 2910 2911 2912 2913 2914 2915 2916 2917 2918\n",
      " 2919 2920 2921 2922 2923 2924 2925 2926 2927 2928 2929 2930 2931 2932\n",
      " 2933 2934 2935 2936 2937 2938 2939 2940 2941 2942 2943 2944 2945 2946\n",
      " 2947 2948 2949 2950 2951 2952 2953 2954 2955 2956 2957 2958 2959 2960\n",
      " 2961 2962 2963 2964 2965 2966 2967 2968 2969 2970 2971 2972 2973 2974\n",
      " 2975 2976 2977 2978 2979 2980 2981 2982 2983 2984 2985 2986 2987 2988\n",
      " 2989 2990 2991 2992 2993 2994 2995 2996 2997 2998 2999]\n",
      "[   0    1    2 ... 2997 2998 2999] [3000 3001 3002 3003 3004 3005 3006 3007 3008 3009 3010 3011 3012 3013\n",
      " 3014 3015 3016 3017 3018 3019 3020 3021 3022 3023 3024 3025 3026 3027\n",
      " 3028 3029 3030 3031 3032 3033 3034 3035 3036 3037 3038 3039 3040 3041\n",
      " 3042 3043 3044 3045 3046 3047 3048 3049 3050 3051 3052 3053 3054 3055\n",
      " 3056 3057 3058 3059 3060 3061 3062 3063 3064 3065 3066 3067 3068 3069\n",
      " 3070 3071 3072 3073 3074 3075 3076 3077 3078 3079 3080 3081 3082 3083\n",
      " 3084 3085 3086 3087 3088 3089 3090 3091 3092 3093 3094 3095 3096 3097\n",
      " 3098 3099 3100 3101 3102 3103 3104 3105 3106 3107 3108 3109 3110 3111\n",
      " 3112 3113 3114 3115 3116 3117 3118 3119 3120 3121 3122 3123 3124 3125\n",
      " 3126 3127 3128 3129 3130 3131 3132 3133 3134 3135 3136 3137 3138 3139\n",
      " 3140 3141 3142 3143 3144 3145 3146 3147 3148 3149 3150 3151 3152 3153\n",
      " 3154 3155 3156 3157 3158 3159 3160 3161 3162 3163 3164 3165 3166 3167\n",
      " 3168 3169 3170 3171 3172 3173 3174 3175 3176 3177 3178 3179 3180 3181\n",
      " 3182 3183 3184 3185 3186 3187 3188 3189 3190 3191 3192 3193 3194 3195\n",
      " 3196 3197 3198 3199 3200 3201 3202 3203 3204 3205 3206 3207 3208 3209\n",
      " 3210 3211 3212 3213 3214 3215 3216 3217 3218 3219 3220 3221 3222 3223\n",
      " 3224 3225 3226 3227 3228 3229 3230 3231 3232 3233 3234 3235 3236 3237\n",
      " 3238 3239 3240 3241 3242 3243 3244 3245 3246 3247 3248 3249 3250 3251\n",
      " 3252 3253 3254 3255 3256 3257 3258 3259 3260 3261 3262 3263 3264 3265\n",
      " 3266 3267 3268 3269 3270 3271 3272 3273 3274 3275 3276 3277 3278 3279\n",
      " 3280 3281 3282 3283 3284 3285 3286 3287 3288 3289 3290 3291 3292 3293\n",
      " 3294 3295 3296 3297 3298 3299 3300 3301 3302 3303 3304 3305 3306 3307\n",
      " 3308 3309 3310 3311 3312 3313 3314 3315 3316 3317 3318 3319 3320 3321\n",
      " 3322 3323 3324 3325 3326 3327 3328 3329 3330 3331 3332]\n"
     ]
    }
   ],
   "source": [
    "for train_index,test_index in kf.split(X,y):\n",
    "    print(train_index,test_index)"
   ]
  },
  {
   "cell_type": "code",
   "execution_count": 597,
   "metadata": {},
   "outputs": [],
   "source": [
    "def get_score(model,X_train, X_test, y_train, y_test):\n",
    "    model.fit(X_train, y_train)\n",
    "    return model.score(X_test,y_test)"
   ]
  },
  {
   "cell_type": "code",
   "execution_count": null,
   "metadata": {},
   "outputs": [],
   "source": [
    "print(get_score(mlp,X_train, X_test, y_train, y_test))\n",
    "\n",
    "print(get_score(clf_rf,X_train, X_test, y_train, y_test))\n",
    "\n",
    "print(get_score(clf,X_train, X_test, y_train, y_test))"
   ]
  },
  {
   "cell_type": "markdown",
   "metadata": {},
   "source": [
    "#### stratifiedkfold"
   ]
  },
  {
   "cell_type": "code",
   "execution_count": null,
   "metadata": {},
   "outputs": [],
   "source": [
    "from sklearn.model_selection import cross_val_score\n",
    "clf = svm.SVC(kernel='linear', C=1)\n",
    "scores = cross_val_score(clf, X, y.ravel(), cv=2)\n",
    "                                              \n"
   ]
  },
  {
   "cell_type": "code",
   "execution_count": null,
   "metadata": {},
   "outputs": [],
   "source": []
  },
  {
   "cell_type": "code",
   "execution_count": null,
   "metadata": {},
   "outputs": [],
   "source": []
  },
  {
   "cell_type": "code",
   "execution_count": null,
   "metadata": {},
   "outputs": [],
   "source": []
  }
 ],
 "metadata": {
  "kernelspec": {
   "display_name": "Python 3",
   "language": "python",
   "name": "python3"
  },
  "language_info": {
   "codemirror_mode": {
    "name": "ipython",
    "version": 3
   },
   "file_extension": ".py",
   "mimetype": "text/x-python",
   "name": "python",
   "nbconvert_exporter": "python",
   "pygments_lexer": "ipython3",
   "version": "3.7.6"
  }
 },
 "nbformat": 4,
 "nbformat_minor": 2
}
