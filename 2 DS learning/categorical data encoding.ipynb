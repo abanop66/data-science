{
 "cells": [
  {
   "cell_type": "markdown",
   "metadata": {},
   "source": [
    "3 ways \n",
    "\n",
    "1 label encoder \n",
    "#from sklearn.preprocessing import LabelEncoder\n",
    "\n",
    "2 pd.factorize()\n",
    "\n",
    "3 ordinal encoder ..... i create the encoding list male , 0 ... female , 1\n",
    "#from sklearn.preprocessing import OrdinalEncoder\n",
    "\n",
    "\n",
    "one hot encoder\n",
    "#from sklearn.preprocessing import OneHotEncoder .... it's the best way but it use more space as you add more columns\n"
   ]
  }
 ],
 "metadata": {
  "kernelspec": {
   "display_name": "Python 3",
   "language": "python",
   "name": "python3"
  },
  "language_info": {
   "codemirror_mode": {
    "name": "ipython",
    "version": 3
   },
   "file_extension": ".py",
   "mimetype": "text/x-python",
   "name": "python",
   "nbconvert_exporter": "python",
   "pygments_lexer": "ipython3",
   "version": "3.7.6"
  }
 },
 "nbformat": 4,
 "nbformat_minor": 4
}
