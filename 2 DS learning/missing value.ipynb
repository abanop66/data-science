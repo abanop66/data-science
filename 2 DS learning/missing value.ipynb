{
 "cells": [
  {
   "cell_type": "markdown",
   "metadata": {},
   "source": [
    "https://www.kaggle.com/alexisbcook/missing-values\n",
    "many ways \n",
    "\n",
    "1- fillna \n",
    "\n",
    "2- from skleaern.impute import SimpleImputer ..... the idea is different as it remove the coumns name \n",
    "#the benifit of imputer is you can calculate mean over train data and perform it to the test data\n",
    "\n",
    "3- drop .. note : you can use list instead of repeat drop(\"feature_name\")>>>drop(list)"
   ]
  }
 ],
 "metadata": {
  "kernelspec": {
   "display_name": "Python 3",
   "language": "python",
   "name": "python3"
  },
  "language_info": {
   "codemirror_mode": {
    "name": "ipython",
    "version": 3
   },
   "file_extension": ".py",
   "mimetype": "text/x-python",
   "name": "python",
   "nbconvert_exporter": "python",
   "pygments_lexer": "ipython3",
   "version": "3.7.6"
  }
 },
 "nbformat": 4,
 "nbformat_minor": 4
}
